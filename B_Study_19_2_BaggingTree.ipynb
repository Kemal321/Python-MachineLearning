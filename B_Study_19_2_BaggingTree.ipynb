{
 "cells": [
  {
   "cell_type": "code",
   "execution_count": 11,
   "metadata": {},
   "outputs": [],
   "source": [
    "import pandas as pd \n",
    "from sklearn.tree import DecisionTreeRegressor\n",
    "from sklearn.model_selection import train_test_split,GridSearchCV\n",
    "import sklearn.metrics as mt\n",
    "from sklearn.ensemble import BaggingRegressor"
   ]
  },
  {
   "cell_type": "code",
   "execution_count": 12,
   "metadata": {},
   "outputs": [
    {
     "name": "stdout",
     "output_type": "stream",
     "text": [
      "R2 skor: 0.9309964506180479\n",
      "MSE skor: 2.178\n",
      "Bagging R2 skor: 0.9850598444608355\n",
      "Bagging MSE skor: 0.4715650000000003\n"
     ]
    }
   ],
   "source": [
    "# önceki uygulamada yapmıştık burada GridSeact ile bir tuning yapacağım\n",
    "data = pd.read_csv(\"../Python ile Makine Öğrenmesi/Advertising.csv\",index_col=0)\n",
    "data2=data.copy()\n",
    "\n",
    "y = data2[\"Sales\"]\n",
    "X = data2.drop(columns=\"Sales\",axis=1)\n",
    "\n",
    "X_train, X_test, y_train, y_test = train_test_split(X,y,test_size=0.2,random_state=42)\n",
    "\n",
    "simpleModel = DecisionTreeRegressor(random_state=0)\n",
    "simpleModel.fit(X_train,y_train)\n",
    "y_preds = simpleModel.predict(X_test)\n",
    "\n",
    "r2 = mt.r2_score(y_test,y_preds)\n",
    "mse = mt.mean_squared_error(y_test,y_preds)\n",
    "\n",
    "bgModel = BaggingRegressor(random_state=0)\n",
    "bgModel.fit(X_train,y_train)\n",
    "\n",
    "bgModelPreds = bgModel.predict(X_test)\n",
    "\n",
    "r2_bg = mt.r2_score(y_test,bgModelPreds)\n",
    "mse_bg = mt.mean_squared_error(y_test,bgModelPreds)\n",
    "print(f\"R2 skor: {r2}\\nMSE skor: {mse}\\nBagging R2 skor: {r2_bg}\\nBagging MSE skor: {mse_bg}\")"
   ]
  },
  {
   "cell_type": "code",
   "execution_count": 13,
   "metadata": {},
   "outputs": [
    {
     "name": "stdout",
     "output_type": "stream",
     "text": [
      "{'max_leaf_nodes': 45, 'min_samples_split': 2}\n"
     ]
    },
    {
     "name": "stderr",
     "output_type": "stream",
     "text": [
      "c:\\Users\\Kemalettin\\AppData\\Local\\Programs\\Python\\Python312\\Lib\\site-packages\\numpy\\ma\\core.py:2881: RuntimeWarning: invalid value encountered in cast\n",
      "  _data = np.array(data, dtype=dtype, copy=copy,\n"
     ]
    }
   ],
   "source": [
    "# Grid in DT için uygulaması klasik\n",
    "params = {\"min_samples_split\":range(2,50),\"max_leaf_nodes\":range(2,50)}\n",
    "grid1 = GridSearchCV(simpleModel,param_grid=params,cv=10)\n",
    "grid1.fit(X_train,y_train)\n",
    "print(grid1.best_params_)"
   ]
  },
  {
   "cell_type": "code",
   "execution_count": 14,
   "metadata": {},
   "outputs": [
    {
     "name": "stdout",
     "output_type": "stream",
     "text": [
      "{'n_estimators': 48}\n"
     ]
    }
   ],
   "source": [
    "# bagging için GridSearch yapalım\n",
    "params = {\"n_estimators\":range(2,50)}\n",
    "grid2 = GridSearchCV(bgModel,param_grid=params,cv=10)\n",
    "grid2.fit(X_train,y_train)\n",
    "print(grid2.best_params_)"
   ]
  },
  {
   "cell_type": "markdown",
   "metadata": {},
   "source": [
    "Bir çok hiperparametre var tabiki en çok kullanılan üzerinden uygulama yapacağım. Çünkü çok uzuyor süreç bu da ensebmle bir model olması hasebi ile n_estimators yani kaç tane dt model oluşturması gerektiğini bulmaya çalışacağım."
   ]
  },
  {
   "cell_type": "code",
   "execution_count": 15,
   "metadata": {},
   "outputs": [
    {
     "name": "stdout",
     "output_type": "stream",
     "text": [
      "R2 skor: 0.9309964506180479\n",
      "MSE skor: 2.178\n",
      "Bagging R2 skor: 0.9850598444608355\n",
      "Bagging MSE skor: 0.4715650000000003\n",
      "************************************************************************\n",
      "GSR2 skor: 0.9089919370857603\n",
      "GSMSE skor: 2.872541525799502\n",
      "GSBagging R2 skor: 0.9825410059935172\n",
      "GSBagging MSE skor: 0.5510685941043078\n"
     ]
    }
   ],
   "source": [
    "# GridSearch üzerinden aldığımız değerleri deneyelim \n",
    "GSsimpleModel = DecisionTreeRegressor(random_state=0,max_leaf_nodes=24,min_samples_split=2)\n",
    "GSsimpleModel.fit(X_train,y_train)\n",
    "y_preds2 = GSsimpleModel.predict(X_test)\n",
    "\n",
    "r21 = mt.r2_score(y_test,y_preds2)\n",
    "mse21 = mt.mean_squared_error(y_test,y_preds2)\n",
    "\n",
    "GSbgModel = BaggingRegressor(random_state=0,n_estimators=21)\n",
    "GSbgModel.fit(X_train,y_train)\n",
    "\n",
    "bgModelPreds2 = GSbgModel.predict(X_test)\n",
    "\n",
    "r2_GSbgModel = mt.r2_score(y_test,bgModelPreds2)\n",
    "mse_GSbgModel = mt.mean_squared_error(y_test,bgModelPreds2)\n",
    "print(f\"R2 skor: {r2}\\nMSE skor: {mse}\\nBagging R2 skor: {r2_bg}\\nBagging MSE skor: {mse_bg}\")\n",
    "print(\"************************************************************************\")\n",
    "print(f\"GSR2 skor: {r21}\\nGSMSE skor: {mse21}\\nGSBagging R2 skor: {r2_GSbgModel}\\nGSBagging MSE skor: {mse_GSbgModel}\")"
   ]
  },
  {
   "cell_type": "code",
   "execution_count": 16,
   "metadata": {},
   "outputs": [
    {
     "name": "stdout",
     "output_type": "stream",
     "text": [
      "R2 skor: 0.9309964506180479\n",
      "MSE skor: 2.178\n",
      "Bagging R2 skor: 0.9850598444608355\n",
      "Bagging MSE skor: 0.4715650000000003\n",
      "************************************************************************\n",
      "GSR2 skor: 0.9397630155722151\n",
      "GSMSE skor: 1.901295705203679\n",
      "GSBagging R2 skor: 0.9834479642619646\n",
      "GSBagging MSE skor: 0.5224417317708324\n"
     ]
    }
   ],
   "source": [
    "# GridSearch üzerinden aldığımız değerleri deneyelim \n",
    "GSsimpleModel = DecisionTreeRegressor(random_state=0,max_leaf_nodes=45,min_samples_split=2)\n",
    "GSsimpleModel.fit(X_train,y_train)\n",
    "y_preds2 = GSsimpleModel.predict(X_test)\n",
    "\n",
    "r21 = mt.r2_score(y_test,y_preds2)\n",
    "mse21 = mt.mean_squared_error(y_test,y_preds2)\n",
    "\n",
    "GSbgModel = BaggingRegressor(random_state=0,n_estimators=48)\n",
    "GSbgModel.fit(X_train,y_train)\n",
    "\n",
    "bgModelPreds2 = GSbgModel.predict(X_test)\n",
    "\n",
    "r2_GSbgModel = mt.r2_score(y_test,bgModelPreds2)\n",
    "mse_GSbgModel = mt.mean_squared_error(y_test,bgModelPreds2)\n",
    "print(f\"R2 skor: {r2}\\nMSE skor: {mse}\\nBagging R2 skor: {r2_bg}\\nBagging MSE skor: {mse_bg}\")\n",
    "print(\"************************************************************************\")\n",
    "print(f\"GSR2 skor: {r21}\\nGSMSE skor: {mse21}\\nGSBagging R2 skor: {r2_GSbgModel}\\nGSBagging MSE skor: {mse_GSbgModel}\")"
   ]
  },
  {
   "cell_type": "markdown",
   "metadata": {},
   "source": [
    "İlk yaptığımı seferde range(2,25) 2-25 aralığında yapmıştım hızlı olması için ve sonuçlar kötüydü. Bende bunu da denemiş olmak adına. Range 2-50 seçtim. Uzun sürmesinin daha iyi anlamak için ve Gridsearch 1.5 dakikayı geçti. Yani aralıkta kesinlikle bulacak diye bir kaide yek algoritma bunu garanti etmiyor zaten. Uygulama bu şekilde bitmiş oldu. Değerler düştü fakat range(2,25) aralığında değerler düşmedi demek ki GridSearchCV ile o nokta da optimal olan bir değer bulamıyoruz. "
   ]
  }
 ],
 "metadata": {
  "kernelspec": {
   "display_name": "Python 3",
   "language": "python",
   "name": "python3"
  },
  "language_info": {
   "codemirror_mode": {
    "name": "ipython",
    "version": 3
   },
   "file_extension": ".py",
   "mimetype": "text/x-python",
   "name": "python",
   "nbconvert_exporter": "python",
   "pygments_lexer": "ipython3",
   "version": "3.12.5"
  },
  "orig_nbformat": 4
 },
 "nbformat": 4,
 "nbformat_minor": 2
}
