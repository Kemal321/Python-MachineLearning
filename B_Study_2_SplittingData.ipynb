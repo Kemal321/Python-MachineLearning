{
 "cells": [
  {
   "cell_type": "markdown",
   "metadata": {},
   "source": [
    "<center> <h2> VERİ SETİ BÖLME </h2></center>\n",
    "Veri kümemizi eğitim ve test ( genel olarak ) ayırma işleminin python da nasıl yapıldığını göreceğiz \n",
    "öncelikle hatırlatma olarak notları ipynb dosyasında tutmak istiyorum daha kolay bir şekilde pdf e çevirme ve unicode desteği almak için. Tam olarak çalışamazsam tekrar normal .py şeklinde çalışmaya geçeceğiz.\n",
    "\n",
    "Verilerimiz genel olarak excel de otomatik olarak elle üretilmiş olacak ( genellikle )\n",
    "Veri seti bölme için uygun oran şudur şeklinde bir şey yoktur ki böyle bir şey olamazda. \n",
    "Bu noktada elimizdeki verilerin kalitesinden, dağılımına ve öğrenim sürecindeki veri ihtiyacımıza göre kendimiz belirleriz genel olarak %70-%30 şeklinde veya %80-%20 şeklinde geçer ama %99-%1 e kadar değişebilir. Bunu model kalitemiz için kendimiz ayarlayacağız.\n"
   ]
  },
  {
   "cell_type": "code",
   "execution_count": 2,
   "metadata": {},
   "outputs": [],
   "source": [
    "import pandas as pd \n",
    "from sklearn.model_selection import train_test_split"
   ]
  },
  {
   "cell_type": "code",
   "execution_count": 4,
   "metadata": {},
   "outputs": [],
   "source": [
    "data = pd.read_excel(r\"C:\\Users\\Kemalettin\\Desktop\\anlasekon\\Python ile Makine Öğrenmesi\\B_Data_2_splittingData.xlsx\")\n",
    "data2 = data.copy()"
   ]
  },
  {
   "cell_type": "code",
   "execution_count": 5,
   "metadata": {},
   "outputs": [
    {
     "data": {
      "text/html": [
       "<div>\n",
       "<style scoped>\n",
       "    .dataframe tbody tr th:only-of-type {\n",
       "        vertical-align: middle;\n",
       "    }\n",
       "\n",
       "    .dataframe tbody tr th {\n",
       "        vertical-align: top;\n",
       "    }\n",
       "\n",
       "    .dataframe thead th {\n",
       "        text-align: right;\n",
       "    }\n",
       "</style>\n",
       "<table border=\"1\" class=\"dataframe\">\n",
       "  <thead>\n",
       "    <tr style=\"text-align: right;\">\n",
       "      <th></th>\n",
       "      <th>Y</th>\n",
       "      <th>X1</th>\n",
       "      <th>X2</th>\n",
       "    </tr>\n",
       "  </thead>\n",
       "  <tbody>\n",
       "    <tr>\n",
       "      <th>0</th>\n",
       "      <td>214</td>\n",
       "      <td>334</td>\n",
       "      <td>272</td>\n",
       "    </tr>\n",
       "    <tr>\n",
       "      <th>1</th>\n",
       "      <td>461</td>\n",
       "      <td>242</td>\n",
       "      <td>851</td>\n",
       "    </tr>\n",
       "    <tr>\n",
       "      <th>2</th>\n",
       "      <td>963</td>\n",
       "      <td>518</td>\n",
       "      <td>418</td>\n",
       "    </tr>\n",
       "    <tr>\n",
       "      <th>3</th>\n",
       "      <td>414</td>\n",
       "      <td>529</td>\n",
       "      <td>147</td>\n",
       "    </tr>\n",
       "    <tr>\n",
       "      <th>4</th>\n",
       "      <td>543</td>\n",
       "      <td>609</td>\n",
       "      <td>400</td>\n",
       "    </tr>\n",
       "  </tbody>\n",
       "</table>\n",
       "</div>"
      ],
      "text/plain": [
       "     Y   X1   X2\n",
       "0  214  334  272\n",
       "1  461  242  851\n",
       "2  963  518  418\n",
       "3  414  529  147\n",
       "4  543  609  400"
      ]
     },
     "execution_count": 5,
     "metadata": {},
     "output_type": "execute_result"
    }
   ],
   "source": [
    "data2.head()"
   ]
  },
  {
   "cell_type": "code",
   "execution_count": 11,
   "metadata": {},
   "outputs": [
    {
     "name": "stdout",
     "output_type": "stream",
     "text": [
      "      X1   X2\n",
      "338  780  858\n",
      "755  990  119\n",
      "509  814  597\n",
      "218  206  624\n",
      "855  100  731\n",
      "..   ...  ...\n",
      "92   575  801\n",
      "861  280  429\n",
      "232  742  295\n",
      "782  332  181\n",
      "986  800  800\n",
      "\n",
      "[800 rows x 2 columns]\n",
      "      X1   X2\n",
      "111  292  718\n",
      "184  158  838\n",
      "898  960  143\n",
      "429  479  782\n",
      "264  556  199\n",
      "..   ...  ...\n",
      "664  990  327\n",
      "796  691  969\n",
      "758  426  823\n",
      "312  794  417\n",
      "767  178  464\n",
      "\n",
      "[200 rows x 2 columns]\n",
      "X1    430451\n",
      "X2    438391\n",
      "dtype: int64\n"
     ]
    }
   ],
   "source": [
    "# verilerimizi öncelikle bağımlı ve bağımsız olarak ayıralım\n",
    "y = data2[\"Y\"] # bağımlı \n",
    "X = data2[[\"X1\",\"X2\"]] # bağımsız\n",
    "\n",
    "X_train, X_test, y_train, y_test = train_test_split(X,y,test_size=0.20) \n",
    "# burada X eğitim X test y eğitim ve y test olamk üzere ayırdık. ilk olarak bağımsız sonrasında bağımlı\n",
    "# değişkenimizi verdik ve bölme oranını yüzde 20 si test olsun şeklinde oluşturduk ve kontrol edelim\n",
    "print(X_train,X_test,sep=\"\\n\")\n",
    "print(X_train.sum())\n",
    "# çıktı da görüldüğü gibi 1000 verimizin 800 tanesi X_train, kalan 200 tanesi ise X_test olarak ayrıldı\n"
   ]
  },
  {
   "cell_type": "markdown",
   "metadata": {},
   "source": [
    "Burada dikkat etmemiz gereken şey fonksiyonu her çalıştırdığımızda güzelce çalışır ama her çalışma da \n",
    "rassal olarak ayırma yapar yani A B C arasından 2 seçim yapacaksa her defasında farklı seçer \n",
    "Bu bizim için bir sorun oluşturmakta çünkü modelimizi eğittiğimiz yapının değişmesi modelimizin değişmesine neden olacaktır. Bu durumu çözmek için bir tohumlama işlemi yapmamız lazım. Random stateyi sabitlemek adına. "
   ]
  },
  {
   "cell_type": "markdown",
   "metadata": {},
   "source": [
    "X_train, X_test, y_train, y_test = train_test_split(X,y,test_size=0.20,random_state=42) \n",
    "şeklinde kullanılır. "
   ]
  },
  {
   "cell_type": "code",
   "execution_count": 13,
   "metadata": {},
   "outputs": [
    {
     "name": "stdout",
     "output_type": "stream",
     "text": [
      "X1    False\n",
      "X2    False\n",
      "dtype: bool\n"
     ]
    }
   ],
   "source": [
    "X_train1, X_test1, y_train1, y_test1 = train_test_split(X,y,test_size=0.20,random_state=42) \n",
    "print(X_train.sum() == X_train1.sum()) # kontrol edersek görmüş oluruz\n",
    "# çıktılarımız false döndü yani başka bir state kullanıyor biz bu state durumunu sabitlemiş olduk."
   ]
  }
 ],
 "metadata": {
  "kernelspec": {
   "display_name": "Python 3",
   "language": "python",
   "name": "python3"
  },
  "language_info": {
   "codemirror_mode": {
    "name": "ipython",
    "version": 3
   },
   "file_extension": ".py",
   "mimetype": "text/x-python",
   "name": "python",
   "nbconvert_exporter": "python",
   "pygments_lexer": "ipython3",
   "version": "3.12.5"
  },
  "orig_nbformat": 4
 },
 "nbformat": 4,
 "nbformat_minor": 2
}
