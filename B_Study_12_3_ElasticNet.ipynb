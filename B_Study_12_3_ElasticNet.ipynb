{
 "cells": [
  {
   "cell_type": "code",
   "execution_count": 1,
   "metadata": {},
   "outputs": [],
   "source": [
    "import pandas as pd \n",
    "from sklearn.model_selection import train_test_split\n",
    "from sklearn.linear_model import Ridge,Lasso,ElasticNet"
   ]
  },
  {
   "cell_type": "code",
   "execution_count": 2,
   "metadata": {},
   "outputs": [],
   "source": [
    "data = pd.read_csv(r\"C:\\Users\\Kemalettin\\Desktop\\anlasekon\\Python ile Makine Öğrenmesi\\BostonHousing.csv\")\n",
    "data2 = data.copy()"
   ]
  },
  {
   "cell_type": "code",
   "execution_count": 3,
   "metadata": {},
   "outputs": [],
   "source": [
    "y = data2[\"medv\"]\n",
    "X = data2.drop(columns=\"medv\",axis=1)\n",
    "\n",
    "X_train, X_test, y_train, y_test = train_test_split(X,y,test_size=0.2,random_state=3)"
   ]
  },
  {
   "cell_type": "code",
   "execution_count": 4,
   "metadata": {},
   "outputs": [
    {
     "name": "stdout",
     "output_type": "stream",
     "text": [
      "0.7231925387164476\n",
      "0.7911900455702632\n"
     ]
    }
   ],
   "source": [
    "ridge_model = Ridge(alpha=0.5).fit(X_train,y_train)\n",
    "print(ridge_model.score(X_train,y_train))\n",
    "print(ridge_model.score(X_test,y_test))"
   ]
  },
  {
   "cell_type": "code",
   "execution_count": 5,
   "metadata": {},
   "outputs": [
    {
     "name": "stdout",
     "output_type": "stream",
     "text": [
      "0.7130788829904616\n",
      "0.7781325701654644\n"
     ]
    }
   ],
   "source": [
    "lass_model = Lasso(alpha=0.1).fit(X_train,y_train)\n",
    "print(lass_model.score(X_train,y_train))\n",
    "print(lass_model.score(X_test,y_test))"
   ]
  },
  {
   "cell_type": "code",
   "execution_count": 6,
   "metadata": {},
   "outputs": [
    {
     "name": "stdout",
     "output_type": "stream",
     "text": [
      "0.7111295920381301\n",
      "0.774431242776173\n"
     ]
    }
   ],
   "source": [
    "elas_model = ElasticNet(alpha=0.1).fit(X_train,y_train)\n",
    "print(elas_model.score(X_train,y_train))\n",
    "print(elas_model.score(X_test,y_test))"
   ]
  },
  {
   "cell_type": "code",
   "execution_count": 7,
   "metadata": {},
   "outputs": [
    {
     "name": "stdout",
     "output_type": "stream",
     "text": [
      "13\n",
      "12\n",
      "12\n"
     ]
    }
   ],
   "source": [
    "print(sum(ridge_model.coef_ != 0 ))\n",
    "print(sum(lass_model.coef_ != 0 ))\n",
    "print(sum(elas_model.coef_ != 0 ))"
   ]
  },
  {
   "cell_type": "markdown",
   "metadata": {},
   "source": [
    "ElasticNet içinde bir crossvalidator var onu kullanarak optimal alfa değerini bulmaya çalışabilirsiniz. Burada örnek olarak koymayacağım zaten uygulanış vs. her şeyi aynı diğer örneğe geçerek regresyonları bitirelim."
   ]
  }
 ],
 "metadata": {
  "kernelspec": {
   "display_name": "Python 3",
   "language": "python",
   "name": "python3"
  },
  "language_info": {
   "codemirror_mode": {
    "name": "ipython",
    "version": 3
   },
   "file_extension": ".py",
   "mimetype": "text/x-python",
   "name": "python",
   "nbconvert_exporter": "python",
   "pygments_lexer": "ipython3",
   "version": "3.12.5"
  },
  "orig_nbformat": 4
 },
 "nbformat": 4,
 "nbformat_minor": 2
}
