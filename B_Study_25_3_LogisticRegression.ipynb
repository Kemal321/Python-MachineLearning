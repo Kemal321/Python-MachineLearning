{
 "cells": [
  {
   "cell_type": "markdown",
   "metadata": {},
   "source": [
    "Notlarda one-vs-all OvA yı anlattık ama burada dümdüz yapıyor gibi görünebiliriz.  scikit-learn'de lojistik regresyon modelini çok sınıflı sınıflandırma (multi-class classification) problemleri için kullandığınızda, LogisticRegression sınıfı otomatik olarak one-vs-all (OvA) veya softmax regression (diğer adıyla multinomial) stratejisini uygular. Bu davranış, multi_class parametresine bağlıdır.  Ancak OvA veya softmax arasında bir tercih yapmak isterseniz, multi_class parametresini değiştirerek belirtebilirsiniz:\n",
    "\n",
    "multi_class='ovr': One-vs-All kullanır.\n",
    "\n",
    "multi_class='multinomial': Softmax Regression kullanır.\n",
    "\n",
    "Solver, modelin kayıp fonksiyonunu minimize etmek için kullanılan algoritmadır. Logistic Regression gibi modellerde, solver, en iyi parametreleri bulmak için gradient descent veya benzeri optimizasyon yöntemlerini kullanır.\n",
    "\n",
    "Scikit-learn'deki Logistic Regression için solver seçenekleri şunlardır:\n",
    "\n",
    "lbfgs: L-BFGS (Limited-memory Broyden–Fletcher–Goldfarb–Shanno) algoritması. Büyük veri setleri için uygundur ve genellikle multinomial logistic regression için tercih edilir.\n",
    "\n",
    "liblinear: Küçük veri setlerinde iyi performans gösteren bir doğrusal optimizasyon algoritması.\n",
    "\n",
    "newton-cg: Newton yöntemiyle optimizasyon.\n",
    "\n",
    "sag: Stochastic Average Gradient. Büyük ve yüksek boyutlu veri setleri için uygundur.\n",
    "\n",
    "saga: SAG'ın iyileştirilmiş hali; elastik net gibi regularizasyonları destekler."
   ]
  },
  {
   "cell_type": "code",
   "execution_count": 1,
   "metadata": {},
   "outputs": [],
   "source": [
    "import pandas as pd\n",
    "import seaborn as sns \n",
    "import matplotlib.pyplot as plt \n",
    "from sklearn.model_selection import train_test_split,cross_val_score\n",
    "from sklearn.linear_model import LogisticRegression\n",
    "from sklearn.preprocessing import LabelEncoder,StandardScaler\n",
    "from sklearn.metrics import confusion_matrix, accuracy_score"
   ]
  },
  {
   "cell_type": "code",
   "execution_count": 2,
   "metadata": {},
   "outputs": [
    {
     "data": {
      "text/html": [
       "<div>\n",
       "<style scoped>\n",
       "    .dataframe tbody tr th:only-of-type {\n",
       "        vertical-align: middle;\n",
       "    }\n",
       "\n",
       "    .dataframe tbody tr th {\n",
       "        vertical-align: top;\n",
       "    }\n",
       "\n",
       "    .dataframe thead th {\n",
       "        text-align: right;\n",
       "    }\n",
       "</style>\n",
       "<table border=\"1\" class=\"dataframe\">\n",
       "  <thead>\n",
       "    <tr style=\"text-align: right;\">\n",
       "      <th></th>\n",
       "      <th>sepal_length</th>\n",
       "      <th>sepal_width</th>\n",
       "      <th>petal_length</th>\n",
       "      <th>petal_width</th>\n",
       "      <th>species</th>\n",
       "    </tr>\n",
       "  </thead>\n",
       "  <tbody>\n",
       "    <tr>\n",
       "      <th>0</th>\n",
       "      <td>5.1</td>\n",
       "      <td>3.5</td>\n",
       "      <td>1.4</td>\n",
       "      <td>0.2</td>\n",
       "      <td>setosa</td>\n",
       "    </tr>\n",
       "    <tr>\n",
       "      <th>1</th>\n",
       "      <td>4.9</td>\n",
       "      <td>3.0</td>\n",
       "      <td>1.4</td>\n",
       "      <td>0.2</td>\n",
       "      <td>setosa</td>\n",
       "    </tr>\n",
       "    <tr>\n",
       "      <th>2</th>\n",
       "      <td>4.7</td>\n",
       "      <td>3.2</td>\n",
       "      <td>1.3</td>\n",
       "      <td>0.2</td>\n",
       "      <td>setosa</td>\n",
       "    </tr>\n",
       "    <tr>\n",
       "      <th>3</th>\n",
       "      <td>4.6</td>\n",
       "      <td>3.1</td>\n",
       "      <td>1.5</td>\n",
       "      <td>0.2</td>\n",
       "      <td>setosa</td>\n",
       "    </tr>\n",
       "    <tr>\n",
       "      <th>4</th>\n",
       "      <td>5.0</td>\n",
       "      <td>3.6</td>\n",
       "      <td>1.4</td>\n",
       "      <td>0.2</td>\n",
       "      <td>setosa</td>\n",
       "    </tr>\n",
       "  </tbody>\n",
       "</table>\n",
       "</div>"
      ],
      "text/plain": [
       "   sepal_length  sepal_width  petal_length  petal_width species\n",
       "0           5.1          3.5           1.4          0.2  setosa\n",
       "1           4.9          3.0           1.4          0.2  setosa\n",
       "2           4.7          3.2           1.3          0.2  setosa\n",
       "3           4.6          3.1           1.5          0.2  setosa\n",
       "4           5.0          3.6           1.4          0.2  setosa"
      ]
     },
     "execution_count": 2,
     "metadata": {},
     "output_type": "execute_result"
    }
   ],
   "source": [
    "data = sns.load_dataset(\"iris\")\n",
    "data2 = data.copy()\n",
    "data2.head()"
   ]
  },
  {
   "cell_type": "code",
   "execution_count": 3,
   "metadata": {},
   "outputs": [
    {
     "name": "stdout",
     "output_type": "stream",
     "text": [
      "sepal_length    0\n",
      "sepal_width     0\n",
      "petal_length    0\n",
      "petal_width     0\n",
      "species         0\n",
      "dtype: int64\n"
     ]
    }
   ],
   "source": [
    "# eksik gözlem kontrolü\n",
    "print(data2.isnull().sum())"
   ]
  },
  {
   "cell_type": "code",
   "execution_count": 4,
   "metadata": {},
   "outputs": [
    {
     "name": "stdout",
     "output_type": "stream",
     "text": [
      "<class 'pandas.core.frame.DataFrame'>\n",
      "RangeIndex: 150 entries, 0 to 149\n",
      "Data columns (total 5 columns):\n",
      " #   Column        Non-Null Count  Dtype  \n",
      "---  ------        --------------  -----  \n",
      " 0   sepal_length  150 non-null    float64\n",
      " 1   sepal_width   150 non-null    float64\n",
      " 2   petal_length  150 non-null    float64\n",
      " 3   petal_width   150 non-null    float64\n",
      " 4   species       150 non-null    object \n",
      "dtypes: float64(4), object(1)\n",
      "memory usage: 6.0+ KB\n",
      "['setosa' 'versicolor' 'virginica']\n"
     ]
    }
   ],
   "source": [
    "data2.info()\n",
    "print(data2[\"species\"].unique()) # 3 tane kategoriden oluşan bir bağımlı değişkenimiz varmış"
   ]
  },
  {
   "cell_type": "code",
   "execution_count": 5,
   "metadata": {},
   "outputs": [
    {
     "data": {
      "text/plain": [
       "array([0, 1, 2])"
      ]
     },
     "execution_count": 5,
     "metadata": {},
     "output_type": "execute_result"
    }
   ],
   "source": [
    "# 2 den fazla kategorimiz olduğu için multiclass classification yani çoklu sınıflandırma\n",
    "# problemine sahibiz. Değişkenlerimizi sayısal verilere dönüştürmek için encoding yapıyoruz.\n",
    "encoder = LabelEncoder()\n",
    "data2[\"species\"] = encoder.fit_transform(data2[\"species\"])\n",
    "data2[\"species\"].unique() # encoding yaptık \n"
   ]
  },
  {
   "cell_type": "code",
   "execution_count": 6,
   "metadata": {},
   "outputs": [],
   "source": [
    "# veri kümemizi bölüyoruz\n",
    "y= data2[\"species\"]\n",
    "X = data2.drop(columns=\"species\",axis=1)\n",
    "\n",
    "X_train, X_test, y_train, y_test = train_test_split(X,y,test_size=0.2,random_state=3)"
   ]
  },
  {
   "cell_type": "code",
   "execution_count": 7,
   "metadata": {},
   "outputs": [],
   "source": [
    "# bağımsız değişkenlerimizi belirli bir standarda getirmek adına\n",
    "# Standartlaştırma işlemi yapıyoruz. \n",
    "scaler = StandardScaler()\n",
    "X_train = scaler.fit_transform(X_train)\n",
    "X_test = scaler.fit_transform(X_test)"
   ]
  },
  {
   "cell_type": "code",
   "execution_count": 8,
   "metadata": {},
   "outputs": [
    {
     "name": "stdout",
     "output_type": "stream",
     "text": [
      "0.9666666666666667\n",
      "[[10  0  0]\n",
      " [ 0 10  0]\n",
      " [ 0  1  9]]\n"
     ]
    }
   ],
   "source": [
    "model = LogisticRegression()\n",
    "model.fit(X_train,y_train)\n",
    "y_preds = model.predict(X_test)\n",
    "cm = confusion_matrix(y_test,y_preds)\n",
    "print(accuracy_score(y_test,y_preds))\n",
    "print(cm)"
   ]
  },
  {
   "cell_type": "code",
   "execution_count": 9,
   "metadata": {},
   "outputs": [
    {
     "name": "stdout",
     "output_type": "stream",
     "text": [
      "0.9333333333333333\n"
     ]
    }
   ],
   "source": [
    "# normalde bu başarı oranı şüphenilmesi gereken bir başarı skoru o yüzden \n",
    "# genel olarak böyle bir sonuç alırsak Cross val score yapmak iyidir. \n",
    "# Bu veri seti çok genel ve her zaman yüksek doğruluk oranı dönen bir veriseti olduğu için\n",
    "# normaldir ama yapmam gerekeni yapmalıyım\n",
    "cval = cross_val_score(model,X_test,y_test,cv=10).mean()\n",
    "print(cval) # yine aynı şekilde yüskek bir değer çıktı. "
   ]
  },
  {
   "cell_type": "code",
   "execution_count": 10,
   "metadata": {},
   "outputs": [
    {
     "name": "stdout",
     "output_type": "stream",
     "text": [
      "OvA Accuracy: 0.9333333333333333\n",
      "Multinomial Accuracy: 0.9666666666666667\n"
     ]
    },
    {
     "name": "stderr",
     "output_type": "stream",
     "text": [
      "c:\\Users\\Kemalettin\\AppData\\Local\\Programs\\Python\\Python312\\Lib\\site-packages\\sklearn\\linear_model\\_logistic.py:1256: FutureWarning: 'multi_class' was deprecated in version 1.5 and will be removed in 1.7. Use OneVsRestClassifier(LogisticRegression(..)) instead. Leave it to its default value to avoid this warning.\n",
      "  warnings.warn(\n",
      "c:\\Users\\Kemalettin\\AppData\\Local\\Programs\\Python\\Python312\\Lib\\site-packages\\sklearn\\linear_model\\_logistic.py:1247: FutureWarning: 'multi_class' was deprecated in version 1.5 and will be removed in 1.7. From then on, it will always use 'multinomial'. Leave it to its default value to avoid this warning.\n",
      "  warnings.warn(\n"
     ]
    }
   ],
   "source": [
    "# OvA modeli\n",
    "ova_model = LogisticRegression(multi_class='ovr', solver='liblinear')\n",
    "ova_model.fit(X_train, y_train)\n",
    "ova_preds = ova_model.predict(X_test)\n",
    "\n",
    "# Multinomial modeli\n",
    "multi_model = LogisticRegression(multi_class='multinomial', solver='lbfgs', max_iter=1000)\n",
    "multi_model.fit(X_train, y_train)\n",
    "multi_preds = multi_model.predict(X_test)\n",
    "\n",
    "# Sonuçları karşılaştırma\n",
    "print(\"OvA Accuracy:\", accuracy_score(y_test, ova_preds))\n",
    "print(\"Multinomial Accuracy:\", accuracy_score(y_test, multi_preds))"
   ]
  }
 ],
 "metadata": {
  "kernelspec": {
   "display_name": "Python 3",
   "language": "python",
   "name": "python3"
  },
  "language_info": {
   "codemirror_mode": {
    "name": "ipython",
    "version": 3
   },
   "file_extension": ".py",
   "mimetype": "text/x-python",
   "name": "python",
   "nbconvert_exporter": "python",
   "pygments_lexer": "ipython3",
   "version": "3.12.5"
  },
  "orig_nbformat": 4
 },
 "nbformat": 4,
 "nbformat_minor": 2
}
