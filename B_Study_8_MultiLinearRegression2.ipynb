{
 "cells": [
  {
   "cell_type": "markdown",
   "metadata": {},
   "source": [
    "Yine aynı örnek olacak ama bu sefer yaptıklarımızın ML tarafında kullanılan kütüphaneler ile yapılmasını ve farklı metodlarından bazılarını göreceğiz. "
   ]
  },
  {
   "cell_type": "code",
   "execution_count": 18,
   "metadata": {},
   "outputs": [],
   "source": [
    "import pandas as pd \n",
    "from sklearn.impute import SimpleImputer\n",
    "import numpy as np\n",
    "from sklearn.model_selection import train_test_split\n",
    "from sklearn.linear_model import LinearRegression\n",
    "import sklearn.metrics as mt"
   ]
  },
  {
   "cell_type": "code",
   "execution_count": 4,
   "metadata": {},
   "outputs": [],
   "source": [
    "data = pd.read_excel(r\"C:\\Users\\Kemalettin\\Desktop\\anlasekon\\Python ile Makine Öğrenmesi\\Advertising.xlsx\",index_col=0)\n",
    "data2 = data.copy()"
   ]
  },
  {
   "cell_type": "code",
   "execution_count": 5,
   "metadata": {},
   "outputs": [
    {
     "name": "stdout",
     "output_type": "stream",
     "text": [
      "TV           3\n",
      "Radio        1\n",
      "Newspaper    2\n",
      "Sales        3\n",
      "dtype: int64\n"
     ]
    }
   ],
   "source": [
    "print(data2.isnull().sum())"
   ]
  },
  {
   "cell_type": "markdown",
   "metadata": {},
   "source": [
    "gördüğümüz gibi her sürunda bazı verilerimiz eksik bunları doldurmamız gerekiyor bunun için sklearn kütüphanesini kullanarak daha sofistike bir yol kullanacağız SimpleImputer'ı kullanacağız. o yüzden from sklearn.impute import SimpleImputer diyerek onu import ettik"
   ]
  },
  {
   "cell_type": "markdown",
   "metadata": {},
   "source": [
    "Burada SimpleImputer fonksiyonunu çağırdık missing_values = np.nan diyerek eksik değerlerin türünü ve strategy diyerek onları nasıl doldurmak istediğimizi mean ortalama ile doldurmak istediğimizi belirttik en çok kullanılan yöntem denebiliri. Sonrasında imputer'i data2 veri kümemize fit ettik yani uyguladık. Sonrasında data2.iloc[:,:] diyerek integer-based location ile verilerimizi imputerde uygulanmış verilere eşitleyerek eksik verilerimizin de yerine yenilerini yerleştirmiş olduk. Tekrar eksik veri kontrolü yaptık ve doldurmuş olduk"
   ]
  },
  {
   "cell_type": "code",
   "execution_count": 13,
   "metadata": {},
   "outputs": [
    {
     "name": "stdout",
     "output_type": "stream",
     "text": [
      "TV           0\n",
      "Radio        0\n",
      "Newspaper    0\n",
      "Sales        0\n",
      "dtype: int64\n"
     ]
    },
    {
     "data": {
      "text/html": [
       "<div>\n",
       "<style scoped>\n",
       "    .dataframe tbody tr th:only-of-type {\n",
       "        vertical-align: middle;\n",
       "    }\n",
       "\n",
       "    .dataframe tbody tr th {\n",
       "        vertical-align: top;\n",
       "    }\n",
       "\n",
       "    .dataframe thead th {\n",
       "        text-align: right;\n",
       "    }\n",
       "</style>\n",
       "<table border=\"1\" class=\"dataframe\">\n",
       "  <thead>\n",
       "    <tr style=\"text-align: right;\">\n",
       "      <th></th>\n",
       "      <th>TV</th>\n",
       "      <th>Radio</th>\n",
       "      <th>Newspaper</th>\n",
       "      <th>Sales</th>\n",
       "    </tr>\n",
       "  </thead>\n",
       "  <tbody>\n",
       "    <tr>\n",
       "      <th>0</th>\n",
       "      <td>230.100000</td>\n",
       "      <td>37.8</td>\n",
       "      <td>69.200000</td>\n",
       "      <td>22.10000</td>\n",
       "    </tr>\n",
       "    <tr>\n",
       "      <th>1</th>\n",
       "      <td>44.500000</td>\n",
       "      <td>39.3</td>\n",
       "      <td>45.100000</td>\n",
       "      <td>10.40000</td>\n",
       "    </tr>\n",
       "    <tr>\n",
       "      <th>2</th>\n",
       "      <td>17.200000</td>\n",
       "      <td>45.9</td>\n",
       "      <td>69.300000</td>\n",
       "      <td>9.30000</td>\n",
       "    </tr>\n",
       "    <tr>\n",
       "      <th>3</th>\n",
       "      <td>151.500000</td>\n",
       "      <td>41.3</td>\n",
       "      <td>58.500000</td>\n",
       "      <td>13.97868</td>\n",
       "    </tr>\n",
       "    <tr>\n",
       "      <th>4</th>\n",
       "      <td>147.825381</td>\n",
       "      <td>10.8</td>\n",
       "      <td>30.445455</td>\n",
       "      <td>12.90000</td>\n",
       "    </tr>\n",
       "    <tr>\n",
       "      <th>...</th>\n",
       "      <td>...</td>\n",
       "      <td>...</td>\n",
       "      <td>...</td>\n",
       "      <td>...</td>\n",
       "    </tr>\n",
       "    <tr>\n",
       "      <th>195</th>\n",
       "      <td>38.200000</td>\n",
       "      <td>3.7</td>\n",
       "      <td>13.800000</td>\n",
       "      <td>7.60000</td>\n",
       "    </tr>\n",
       "    <tr>\n",
       "      <th>196</th>\n",
       "      <td>94.200000</td>\n",
       "      <td>4.9</td>\n",
       "      <td>8.100000</td>\n",
       "      <td>9.70000</td>\n",
       "    </tr>\n",
       "    <tr>\n",
       "      <th>197</th>\n",
       "      <td>177.000000</td>\n",
       "      <td>9.3</td>\n",
       "      <td>6.400000</td>\n",
       "      <td>12.80000</td>\n",
       "    </tr>\n",
       "    <tr>\n",
       "      <th>198</th>\n",
       "      <td>283.600000</td>\n",
       "      <td>42.0</td>\n",
       "      <td>66.200000</td>\n",
       "      <td>25.50000</td>\n",
       "    </tr>\n",
       "    <tr>\n",
       "      <th>199</th>\n",
       "      <td>232.100000</td>\n",
       "      <td>8.6</td>\n",
       "      <td>8.700000</td>\n",
       "      <td>13.40000</td>\n",
       "    </tr>\n",
       "  </tbody>\n",
       "</table>\n",
       "<p>200 rows × 4 columns</p>\n",
       "</div>"
      ],
      "text/plain": [
       "             TV  Radio  Newspaper     Sales\n",
       "0    230.100000   37.8  69.200000  22.10000\n",
       "1     44.500000   39.3  45.100000  10.40000\n",
       "2     17.200000   45.9  69.300000   9.30000\n",
       "3    151.500000   41.3  58.500000  13.97868\n",
       "4    147.825381   10.8  30.445455  12.90000\n",
       "..          ...    ...        ...       ...\n",
       "195   38.200000    3.7  13.800000   7.60000\n",
       "196   94.200000    4.9   8.100000   9.70000\n",
       "197  177.000000    9.3   6.400000  12.80000\n",
       "198  283.600000   42.0  66.200000  25.50000\n",
       "199  232.100000    8.6   8.700000  13.40000\n",
       "\n",
       "[200 rows x 4 columns]"
      ]
     },
     "execution_count": 13,
     "metadata": {},
     "output_type": "execute_result"
    }
   ],
   "source": [
    "imputer = SimpleImputer(missing_values=np.nan,strategy=\"mean\")\n",
    "imputer = imputer.fit(data2)\n",
    "print(data2.isnull().sum())\n",
    "data2.iloc[:,:] = imputer.transform(data2)\n",
    "data2.iloc[:,:]"
   ]
  },
  {
   "cell_type": "code",
   "execution_count": 22,
   "metadata": {},
   "outputs": [],
   "source": [
    "# Doğrusal regresyon modelimizi uyguladık ve test veri seti için tahmin setimizi oluşturduk\n",
    "y = data2[\"Sales\"]\n",
    "X = data2[[\"TV\",\"Radio\"]]\n",
    "\n",
    "X_train, X_test, y_train, y_test = train_test_split(X,y,test_size=0.2,random_state=42)\n",
    "\n",
    "lr = LinearRegression().fit(X_train,y_train)\n",
    "tahmin = lr.predict(X_test)"
   ]
  },
  {
   "cell_type": "code",
   "execution_count": 23,
   "metadata": {},
   "outputs": [
    {
     "name": "stdout",
     "output_type": "stream",
     "text": [
      "0.901554910161333\n",
      "3.1072808223499355\n",
      "3.1072808223499355\n",
      "1.4516902672365462\n"
     ]
    }
   ],
   "source": [
    "# bu kısım bu çalışmanın amaçlarından biri burada da metrikleri kullanalım\n",
    "# metrikleri import sklearn.metrics as mt şeklinde aldık \n",
    "r2 = mt.r2_score(y_test,tahmin)\n",
    "mse = mt.mean_squared_error(y_test,tahmin)\n",
    "rmse = mt.mean_squared_error(y_test,tahmin)\n",
    "mae = mt.mean_absolute_error(y_test,tahmin)\n",
    "\n",
    "print(r2,mse,rmse,mae,sep=\"\\n\")\n",
    "# çıkan uyarı fonksiyon olarak gelecekmiş rmse o yüzden gelecek için uyarıyor."
   ]
  }
 ],
 "metadata": {
  "kernelspec": {
   "display_name": "Python 3",
   "language": "python",
   "name": "python3"
  },
  "language_info": {
   "codemirror_mode": {
    "name": "ipython",
    "version": 3
   },
   "file_extension": ".py",
   "mimetype": "text/x-python",
   "name": "python",
   "nbconvert_exporter": "python",
   "pygments_lexer": "ipython3",
   "version": "3.12.5"
  },
  "orig_nbformat": 4
 },
 "nbformat": 4,
 "nbformat_minor": 2
}
