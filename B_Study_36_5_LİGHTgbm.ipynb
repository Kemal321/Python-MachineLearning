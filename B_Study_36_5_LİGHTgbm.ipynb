{
 "cells": [
  {
   "cell_type": "markdown",
   "metadata": {},
   "source": [
    "Microsoft tarafından geliştirilmiş bir algoritmadır. Light ( hafif ) Gradient ( gradyan Bir skaler alanın yön türevi (gradyan) artımın en çok olduğu yere doğru yönelmiş bir vektör alanını verir ve büyüklüğü değişimin en büyük değerine eşittir.) Boost Machine İsminden anlaşılacağı gibi. Hafif gradyenleri hızlarının arttırılması için geliştirilmiştir. Daha çok büyük veri kümelerinde kullanılır. Genelde 10.000 satır ve üzerinde kullanıldığında iyi sonuçlar verdiği makalelerde geçer. Bu sayının altında kullanılması çok da mantıklı değil. XGBoost gibi kendi kütüphanesinde tutulur. Yine araştırmalarda geçen bilgilere göre XGBoost un parametre optimizasyonu gibi vakit alan iteratif süreçlerini XGBoost'a göre neredeyse %50 ye varan geliştirilmeler sunduğu belirtilen makaleler vardır. XGBoost ile aynı şekilde ( çoğu metod aynı şekilde kodlanıyor zaten ) kodlanıyor. O yüzden teknik taraf veya pratik tarafa değinmeye gerek olmadığını düşünüyorum. Kısaca bu şekilde bilgi sahibi olmak gerektiği durumlarda kısa bir bilgi küpü ve araştırmalar ile hızlıca aşina olunacaktır. "
   ]
  }
 ],
 "metadata": {
  "language_info": {
   "name": "python"
  }
 },
 "nbformat": 4,
 "nbformat_minor": 2
}
