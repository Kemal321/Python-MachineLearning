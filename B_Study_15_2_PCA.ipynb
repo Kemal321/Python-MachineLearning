{
 "cells": [
  {
   "cell_type": "code",
   "execution_count": 26,
   "metadata": {},
   "outputs": [],
   "source": [
    "import pandas as pd \n",
    "import seaborn as sns \n",
    "import matplotlib.pyplot as plt \n",
    "from sklearn.model_selection import train_test_split,KFold,cross_val_score\n",
    "from sklearn.preprocessing import StandardScaler\n",
    "from sklearn.decomposition import PCA\n",
    "import numpy as np\n",
    "from sklearn.linear_model import LinearRegression\n",
    "import sklearn.metrics as mt\n",
    "import warnings"
   ]
  },
  {
   "cell_type": "code",
   "execution_count": 2,
   "metadata": {},
   "outputs": [
    {
     "name": "stdout",
     "output_type": "stream",
     "text": [
      "fixed acidity           0\n",
      "volatile acidity        0\n",
      "citric acid             0\n",
      "residual sugar          0\n",
      "chlorides               0\n",
      "free sulfur dioxide     0\n",
      "total sulfur dioxide    0\n",
      "density                 0\n",
      "pH                      0\n",
      "sulphates               0\n",
      "alcohol                 0\n",
      "quality                 0\n",
      "dtype: int64\n"
     ]
    }
   ],
   "source": [
    "data = pd.read_csv(r\"../Python ile Makine Öğrenmesi/winequality-red.csv\")\n",
    "data2 = data.copy()\n",
    "print(data2.isnull().sum())"
   ]
  },
  {
   "cell_type": "code",
   "execution_count": 3,
   "metadata": {},
   "outputs": [
    {
     "data": {
      "text/html": [
       "<div>\n",
       "<style scoped>\n",
       "    .dataframe tbody tr th:only-of-type {\n",
       "        vertical-align: middle;\n",
       "    }\n",
       "\n",
       "    .dataframe tbody tr th {\n",
       "        vertical-align: top;\n",
       "    }\n",
       "\n",
       "    .dataframe thead th {\n",
       "        text-align: right;\n",
       "    }\n",
       "</style>\n",
       "<table border=\"1\" class=\"dataframe\">\n",
       "  <thead>\n",
       "    <tr style=\"text-align: right;\">\n",
       "      <th></th>\n",
       "      <th>fixed acidity</th>\n",
       "      <th>volatile acidity</th>\n",
       "      <th>citric acid</th>\n",
       "      <th>residual sugar</th>\n",
       "      <th>chlorides</th>\n",
       "      <th>free sulfur dioxide</th>\n",
       "      <th>total sulfur dioxide</th>\n",
       "      <th>density</th>\n",
       "      <th>pH</th>\n",
       "      <th>sulphates</th>\n",
       "      <th>alcohol</th>\n",
       "      <th>quality</th>\n",
       "    </tr>\n",
       "  </thead>\n",
       "  <tbody>\n",
       "    <tr>\n",
       "      <th>0</th>\n",
       "      <td>7.4</td>\n",
       "      <td>0.70</td>\n",
       "      <td>0.00</td>\n",
       "      <td>1.9</td>\n",
       "      <td>0.076</td>\n",
       "      <td>11.0</td>\n",
       "      <td>34.0</td>\n",
       "      <td>0.9978</td>\n",
       "      <td>3.51</td>\n",
       "      <td>0.56</td>\n",
       "      <td>9.4</td>\n",
       "      <td>5</td>\n",
       "    </tr>\n",
       "    <tr>\n",
       "      <th>1</th>\n",
       "      <td>7.8</td>\n",
       "      <td>0.88</td>\n",
       "      <td>0.00</td>\n",
       "      <td>2.6</td>\n",
       "      <td>0.098</td>\n",
       "      <td>25.0</td>\n",
       "      <td>67.0</td>\n",
       "      <td>0.9968</td>\n",
       "      <td>3.20</td>\n",
       "      <td>0.68</td>\n",
       "      <td>9.8</td>\n",
       "      <td>5</td>\n",
       "    </tr>\n",
       "    <tr>\n",
       "      <th>2</th>\n",
       "      <td>7.8</td>\n",
       "      <td>0.76</td>\n",
       "      <td>0.04</td>\n",
       "      <td>2.3</td>\n",
       "      <td>0.092</td>\n",
       "      <td>15.0</td>\n",
       "      <td>54.0</td>\n",
       "      <td>0.9970</td>\n",
       "      <td>3.26</td>\n",
       "      <td>0.65</td>\n",
       "      <td>9.8</td>\n",
       "      <td>5</td>\n",
       "    </tr>\n",
       "    <tr>\n",
       "      <th>3</th>\n",
       "      <td>11.2</td>\n",
       "      <td>0.28</td>\n",
       "      <td>0.56</td>\n",
       "      <td>1.9</td>\n",
       "      <td>0.075</td>\n",
       "      <td>17.0</td>\n",
       "      <td>60.0</td>\n",
       "      <td>0.9980</td>\n",
       "      <td>3.16</td>\n",
       "      <td>0.58</td>\n",
       "      <td>9.8</td>\n",
       "      <td>6</td>\n",
       "    </tr>\n",
       "    <tr>\n",
       "      <th>4</th>\n",
       "      <td>7.4</td>\n",
       "      <td>0.70</td>\n",
       "      <td>0.00</td>\n",
       "      <td>1.9</td>\n",
       "      <td>0.076</td>\n",
       "      <td>11.0</td>\n",
       "      <td>34.0</td>\n",
       "      <td>0.9978</td>\n",
       "      <td>3.51</td>\n",
       "      <td>0.56</td>\n",
       "      <td>9.4</td>\n",
       "      <td>5</td>\n",
       "    </tr>\n",
       "  </tbody>\n",
       "</table>\n",
       "</div>"
      ],
      "text/plain": [
       "   fixed acidity  volatile acidity  citric acid  residual sugar  chlorides  \\\n",
       "0            7.4              0.70         0.00             1.9      0.076   \n",
       "1            7.8              0.88         0.00             2.6      0.098   \n",
       "2            7.8              0.76         0.04             2.3      0.092   \n",
       "3           11.2              0.28         0.56             1.9      0.075   \n",
       "4            7.4              0.70         0.00             1.9      0.076   \n",
       "\n",
       "   free sulfur dioxide  total sulfur dioxide  density    pH  sulphates  \\\n",
       "0                 11.0                  34.0   0.9978  3.51       0.56   \n",
       "1                 25.0                  67.0   0.9968  3.20       0.68   \n",
       "2                 15.0                  54.0   0.9970  3.26       0.65   \n",
       "3                 17.0                  60.0   0.9980  3.16       0.58   \n",
       "4                 11.0                  34.0   0.9978  3.51       0.56   \n",
       "\n",
       "   alcohol  quality  \n",
       "0      9.4        5  \n",
       "1      9.8        5  \n",
       "2      9.8        5  \n",
       "3      9.8        6  \n",
       "4      9.4        5  "
      ]
     },
     "execution_count": 3,
     "metadata": {},
     "output_type": "execute_result"
    }
   ],
   "source": [
    "data2.head()"
   ]
  },
  {
   "cell_type": "code",
   "execution_count": 4,
   "metadata": {},
   "outputs": [
    {
     "name": "stdout",
     "output_type": "stream",
     "text": [
      "<class 'pandas.core.frame.DataFrame'>\n",
      "RangeIndex: 1599 entries, 0 to 1598\n",
      "Data columns (total 12 columns):\n",
      " #   Column                Non-Null Count  Dtype  \n",
      "---  ------                --------------  -----  \n",
      " 0   fixed acidity         1599 non-null   float64\n",
      " 1   volatile acidity      1599 non-null   float64\n",
      " 2   citric acid           1599 non-null   float64\n",
      " 3   residual sugar        1599 non-null   float64\n",
      " 4   chlorides             1599 non-null   float64\n",
      " 5   free sulfur dioxide   1599 non-null   float64\n",
      " 6   total sulfur dioxide  1599 non-null   float64\n",
      " 7   density               1599 non-null   float64\n",
      " 8   pH                    1599 non-null   float64\n",
      " 9   sulphates             1599 non-null   float64\n",
      " 10  alcohol               1599 non-null   float64\n",
      " 11  quality               1599 non-null   int64  \n",
      "dtypes: float64(11), int64(1)\n",
      "memory usage: 150.0 KB\n"
     ]
    }
   ],
   "source": [
    "data.info()"
   ]
  },
  {
   "cell_type": "code",
   "execution_count": 5,
   "metadata": {},
   "outputs": [],
   "source": [
    "y = data2[\"quality\"]\n",
    "X = data2.drop(columns=\"quality\",axis=1)\n",
    "\n",
    "X_train, X_test, y_train, y_test = train_test_split(X,y,test_size=0.2,random_state=3)"
   ]
  },
  {
   "cell_type": "code",
   "execution_count": 6,
   "metadata": {},
   "outputs": [],
   "source": [
    "standartScaled = StandardScaler()\n",
    "X_train = standartScaled.fit_transform(X_train)\n",
    "X_test = standartScaled.transform(X_test)"
   ]
  },
  {
   "cell_type": "code",
   "execution_count": 22,
   "metadata": {},
   "outputs": [],
   "source": [
    "pca = PCA()\n",
    "X_train2 = pca.fit_transform(X_train)\n",
    "X_test2 = pca.transform(X_test)"
   ]
  },
  {
   "cell_type": "code",
   "execution_count": 23,
   "metadata": {},
   "outputs": [
    {
     "name": "stdout",
     "output_type": "stream",
     "text": [
      "0.3869039632632535 0.6052280007453976\n",
      "0.35609237902950586 0.6202496681888884\n"
     ]
    }
   ],
   "source": [
    "# şimdiye kadar yaptıklarımız ile devam edecek olursak PCA() fonksiyonuna\n",
    "# Bizim onu kaç değişkenli yani kaç boyuta indirgeyeceğimizi vermemiz lazım \n",
    "# Özünde bir optimizasyon problemi olan bu konuya. Bir cross-validation ile \n",
    "# en uygun parametreyi bulabiliriz aslında. \n",
    "# Bunu görmek için 2 ayrı linear modelin farklı boyutlardaki çıktılarına bakalım\n",
    "# 3 değişkenli hali ile 6 değişkenli halini karşılaştıralım. \n",
    "pca2 = PCA(n_components=3)\n",
    "X_train4 = pca.fit_transform(X_train)\n",
    "X_test4 = pca.transform(X_test)\n",
    "\n",
    "pca3 = PCA(n_components=6) # normal halini bir önceki hücrede bıraktık\n",
    "X_train3 = pca3.fit_transform(X_train)\n",
    "X_test3 = pca3.transform(X_test)\n",
    "\n",
    "lr1 = LinearRegression().fit(X_train4,y_train)\n",
    "y_pred4 = lr1.predict(X_test4)\n",
    "print(mt.r2_score(y_test,y_pred4),np.sqrt(mt.mean_squared_error(y_test,y_pred4)))\n",
    "\n",
    "lr2 = LinearRegression().fit(X_train3,y_train)\n",
    "y_pred3 = lr2.predict(X_test3)\n",
    "print(mt.r2_score(y_test,y_pred3),np.sqrt(mt.mean_squared_error(y_test,y_pred3)))\n",
    "# sonuçta görüldüğü gibi R2 skoru artarken hatamız azalıyor. Şimdi cross-val ile \n",
    "# hem skorumuzu görelim hem de uygun değerlerimizi ve eğitim kümemizi halledelim\n"
   ]
  },
  {
   "cell_type": "code",
   "execution_count": 37,
   "metadata": {},
   "outputs": [
    {
     "name": "stderr",
     "output_type": "stream",
     "text": [
      "C:\\Users\\Kemalettin\\AppData\\Local\\Temp\\ipykernel_8348\\2258446782.py:7: FutureWarning: Series.ravel is deprecated. The underlying array is already 1D, so ravel is not necessary.  Use `to_numpy()` for conversion to a numpy array instead.\n",
      "  resid = np.sqrt(-1*cross_val_score(lm1,X_train2[:,:i],y_train.ravel(),cv=cv,\n",
      "C:\\Users\\Kemalettin\\AppData\\Local\\Temp\\ipykernel_8348\\2258446782.py:7: FutureWarning: Series.ravel is deprecated. The underlying array is already 1D, so ravel is not necessary.  Use `to_numpy()` for conversion to a numpy array instead.\n",
      "  resid = np.sqrt(-1*cross_val_score(lm1,X_train2[:,:i],y_train.ravel(),cv=cv,\n",
      "C:\\Users\\Kemalettin\\AppData\\Local\\Temp\\ipykernel_8348\\2258446782.py:7: FutureWarning: Series.ravel is deprecated. The underlying array is already 1D, so ravel is not necessary.  Use `to_numpy()` for conversion to a numpy array instead.\n",
      "  resid = np.sqrt(-1*cross_val_score(lm1,X_train2[:,:i],y_train.ravel(),cv=cv,\n",
      "C:\\Users\\Kemalettin\\AppData\\Local\\Temp\\ipykernel_8348\\2258446782.py:7: FutureWarning: Series.ravel is deprecated. The underlying array is already 1D, so ravel is not necessary.  Use `to_numpy()` for conversion to a numpy array instead.\n",
      "  resid = np.sqrt(-1*cross_val_score(lm1,X_train2[:,:i],y_train.ravel(),cv=cv,\n",
      "C:\\Users\\Kemalettin\\AppData\\Local\\Temp\\ipykernel_8348\\2258446782.py:7: FutureWarning: Series.ravel is deprecated. The underlying array is already 1D, so ravel is not necessary.  Use `to_numpy()` for conversion to a numpy array instead.\n",
      "  resid = np.sqrt(-1*cross_val_score(lm1,X_train2[:,:i],y_train.ravel(),cv=cv,\n",
      "C:\\Users\\Kemalettin\\AppData\\Local\\Temp\\ipykernel_8348\\2258446782.py:7: FutureWarning: Series.ravel is deprecated. The underlying array is already 1D, so ravel is not necessary.  Use `to_numpy()` for conversion to a numpy array instead.\n",
      "  resid = np.sqrt(-1*cross_val_score(lm1,X_train2[:,:i],y_train.ravel(),cv=cv,\n",
      "C:\\Users\\Kemalettin\\AppData\\Local\\Temp\\ipykernel_8348\\2258446782.py:7: FutureWarning: Series.ravel is deprecated. The underlying array is already 1D, so ravel is not necessary.  Use `to_numpy()` for conversion to a numpy array instead.\n",
      "  resid = np.sqrt(-1*cross_val_score(lm1,X_train2[:,:i],y_train.ravel(),cv=cv,\n",
      "C:\\Users\\Kemalettin\\AppData\\Local\\Temp\\ipykernel_8348\\2258446782.py:7: FutureWarning: Series.ravel is deprecated. The underlying array is already 1D, so ravel is not necessary.  Use `to_numpy()` for conversion to a numpy array instead.\n",
      "  resid = np.sqrt(-1*cross_val_score(lm1,X_train2[:,:i],y_train.ravel(),cv=cv,\n",
      "C:\\Users\\Kemalettin\\AppData\\Local\\Temp\\ipykernel_8348\\2258446782.py:7: FutureWarning: Series.ravel is deprecated. The underlying array is already 1D, so ravel is not necessary.  Use `to_numpy()` for conversion to a numpy array instead.\n",
      "  resid = np.sqrt(-1*cross_val_score(lm1,X_train2[:,:i],y_train.ravel(),cv=cv,\n",
      "C:\\Users\\Kemalettin\\AppData\\Local\\Temp\\ipykernel_8348\\2258446782.py:7: FutureWarning: Series.ravel is deprecated. The underlying array is already 1D, so ravel is not necessary.  Use `to_numpy()` for conversion to a numpy array instead.\n",
      "  resid = np.sqrt(-1*cross_val_score(lm1,X_train2[:,:i],y_train.ravel(),cv=cv,\n",
      "C:\\Users\\Kemalettin\\AppData\\Local\\Temp\\ipykernel_8348\\2258446782.py:7: FutureWarning: Series.ravel is deprecated. The underlying array is already 1D, so ravel is not necessary.  Use `to_numpy()` for conversion to a numpy array instead.\n",
      "  resid = np.sqrt(-1*cross_val_score(lm1,X_train2[:,:i],y_train.ravel(),cv=cv,\n"
     ]
    },
    {
     "data": {
      "image/png": "[encoded data removed]",
      "text/plain": [
       "<Figure size 640x480 with 1 Axes>"
      ]
     },
     "metadata": {},
     "output_type": "display_data"
    }
   ],
   "source": [
    "\n",
    "RMSE = [] # Kfold ortalma hata alıyordu değerleri görmek ve tutmak için liste oluşturalım\n",
    "cv = KFold(n_splits=10,shuffle=True,random_state=3)\n",
    "lm1 = LinearRegression()\n",
    "\n",
    "for i in range(1,X_train2.shape[1]+1):\n",
    "    resid = np.sqrt(-1*cross_val_score(lm1,X_train2[:,:i],y_train.ravel(),cv=cv,\n",
    "                                       scoring=\"neg_mean_squared_error\").mean())\n",
    "    RMSE.append(resid)\n",
    "    \n",
    "plt.plot(RMSE,\"-x\")\n",
    "plt.xlabel(\"Bileşen Sayısı\")\n",
    "plt.ylabel(\"RMSE\")\n",
    "plt.show()\n"
   ]
  },
  {
   "cell_type": "markdown",
   "metadata": {},
   "source": [
    "Yukarıdaki grafikte görüldüğü gibi kırılımın olduğu değer 2 yani 2.değişkenden sonra ekleyeceğimiz her bir değişkeninin bizim tahminde oluşacak iyileşmeye çok da bir etkisi yok yani 10 değişken kullanmak ile 2 değişken kullanmak arasında gelen maliyet örnek olsun 10 ₺ iken getirisi 2 ₺ bize zarar veriyor diyebiliriz. Bu yüzden 2 kullanmak daha mantıklı olacaktır. "
   ]
  }
 ],
 "metadata": {
  "kernelspec": {
   "display_name": "Python 3",
   "language": "python",
   "name": "python3"
  },
  "language_info": {
   "codemirror_mode": {
    "name": "ipython",
    "version": 3
   },
   "file_extension": ".py",
   "mimetype": "text/x-python",
   "name": "python",
   "nbconvert_exporter": "python",
   "pygments_lexer": "ipython3",
   "version": "3.12.5"
  },
  "orig_nbformat": 4
 },
 "nbformat": 4,
 "nbformat_minor": 2
}
