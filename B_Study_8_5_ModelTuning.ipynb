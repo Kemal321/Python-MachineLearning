{
 "cells": [
  {
   "cell_type": "code",
   "execution_count": 13,
   "metadata": {},
   "outputs": [],
   "source": [
    "import pandas as pd \n",
    "from sklearn.model_selection import train_test_split,KFold\n",
    "from sklearn.linear_model import LinearRegression\n",
    "import sklearn.metrics as mt"
   ]
  },
  {
   "cell_type": "code",
   "execution_count": 4,
   "metadata": {},
   "outputs": [
    {
     "data": {
      "text/html": [
       "<div>\n",
       "<style scoped>\n",
       "    .dataframe tbody tr th:only-of-type {\n",
       "        vertical-align: middle;\n",
       "    }\n",
       "\n",
       "    .dataframe tbody tr th {\n",
       "        vertical-align: top;\n",
       "    }\n",
       "\n",
       "    .dataframe thead th {\n",
       "        text-align: right;\n",
       "    }\n",
       "</style>\n",
       "<table border=\"1\" class=\"dataframe\">\n",
       "  <thead>\n",
       "    <tr style=\"text-align: right;\">\n",
       "      <th></th>\n",
       "      <th>TV</th>\n",
       "      <th>Radio</th>\n",
       "      <th>Newspaper</th>\n",
       "      <th>Sales</th>\n",
       "    </tr>\n",
       "  </thead>\n",
       "  <tbody>\n",
       "    <tr>\n",
       "      <th>1</th>\n",
       "      <td>230.1</td>\n",
       "      <td>37.8</td>\n",
       "      <td>69.2</td>\n",
       "      <td>22.1</td>\n",
       "    </tr>\n",
       "    <tr>\n",
       "      <th>2</th>\n",
       "      <td>44.5</td>\n",
       "      <td>39.3</td>\n",
       "      <td>45.1</td>\n",
       "      <td>10.4</td>\n",
       "    </tr>\n",
       "    <tr>\n",
       "      <th>3</th>\n",
       "      <td>17.2</td>\n",
       "      <td>45.9</td>\n",
       "      <td>69.3</td>\n",
       "      <td>9.3</td>\n",
       "    </tr>\n",
       "    <tr>\n",
       "      <th>4</th>\n",
       "      <td>151.5</td>\n",
       "      <td>41.3</td>\n",
       "      <td>58.5</td>\n",
       "      <td>18.5</td>\n",
       "    </tr>\n",
       "    <tr>\n",
       "      <th>5</th>\n",
       "      <td>180.8</td>\n",
       "      <td>10.8</td>\n",
       "      <td>58.4</td>\n",
       "      <td>12.9</td>\n",
       "    </tr>\n",
       "  </tbody>\n",
       "</table>\n",
       "</div>"
      ],
      "text/plain": [
       "      TV  Radio  Newspaper  Sales\n",
       "1  230.1   37.8       69.2   22.1\n",
       "2   44.5   39.3       45.1   10.4\n",
       "3   17.2   45.9       69.3    9.3\n",
       "4  151.5   41.3       58.5   18.5\n",
       "5  180.8   10.8       58.4   12.9"
      ]
     },
     "execution_count": 4,
     "metadata": {},
     "output_type": "execute_result"
    }
   ],
   "source": [
    "data = pd.read_csv(r\"C:\\Users\\Kemalettin\\Desktop\\anlasekon\\Python ile Makine Öğrenmesi\\Advertising.csv\",index_col=0)\n",
    "data2 = data.copy() \n",
    "# artık genel adım gibi oldu bunları bundan sonra açıklamayacağım gereksiz uzun olmasın\n",
    "data2.head()"
   ]
  },
  {
   "cell_type": "code",
   "execution_count": 16,
   "metadata": {},
   "outputs": [],
   "source": [
    "# değişkenleri tanımlama\n",
    "y = data2[\"Sales\"]\n",
    "X = data2.drop(columns=\"Sales\",axis = 1)\n",
    "\n",
    "# Veriyi bölme\n",
    "X_train, X_test, y_train, y_test = train_test_split(X,y,test_size=0.2,random_state=3)\n",
    "\n",
    "# modeli oluşturma\n",
    "lr = LinearRegression().fit(X_train,y_train)\n"
   ]
  },
  {
   "cell_type": "code",
   "execution_count": 10,
   "metadata": {},
   "outputs": [],
   "source": [
    "# işleri artık düzgünce çözelim tüm araçları kullanabilelim\n",
    "def score(model,x_train,x_test,y_train,y_test):\n",
    "    \"\"\" \n",
    "    Parameters:\n",
    "\n",
    "    x_train: Training için bölünmüş X veri kümesi\n",
    "    x_test: Test için bölünmüş X veri kümesi\n",
    "    y_train: Training için bölünmüş y veri kümesi\n",
    "    y_test: Test için bölünmüş y veri kümesi\n",
    "\n",
    "    Returns:\n",
    "\n",
    "    r2_training_score, r2_test_score, mse_training_score, mse_test_score\n",
    "    r2_training_score: Training verisinde elde edilen R2 puanı\n",
    "    r2_test_score: Test verisinde elde edilen R2 puanı\n",
    "    mse_training_score: Training verisinde elde edilen MSE puanı\n",
    "    mse_test_score: Test verisinde elde edilen MSE puanı\n",
    "    \"\"\"\n",
    "    training_pred = model.predict(x_train)\n",
    "    test_pred = model.predict(x_test)\n",
    "    \n",
    "    r2_training_score = mt.r2_score(y_train,training_pred)\n",
    "    r2_test_score = mt.r2_score(y_test,test_pred)\n",
    "\n",
    "    mse_training_score = mt.mean_squared_error(y_train,training_pred)\n",
    "    mse_test_score = mt.mean_squared_error(y_test,test_pred)\n",
    "\n",
    "    return [r2_training_score, r2_test_score, mse_training_score, mse_test_score]"
   ]
  },
  {
   "cell_type": "code",
   "execution_count": 14,
   "metadata": {},
   "outputs": [
    {
     "name": "stdout",
     "output_type": "stream",
     "text": [
      "Training R2: 0.8930 Training MSE: 2.9529\n",
      "Test R2: 0.9138 Test MSE: 2.1538\n"
     ]
    }
   ],
   "source": [
    "results = score(model=lr,x_train=X_train,x_test=X_test,y_train=y_train,y_test=y_test)\n",
    "print(\"Training R2: {:.4f} Training MSE: {:.4f}\".format(results[0],results[2]))\n",
    "print(\"Test R2: {:.4f} Test MSE: {:.4f}\".format(results[1],results[3]))"
   ]
  },
  {
   "cell_type": "markdown",
   "metadata": {},
   "source": [
    "İşte bu nokta da model tuning devreye giriyor. Burada ayarlayabileceğimiz hiperparametreler nedir öncelikle ona bakalım mesela veri kümemizi bölerken kullandığımız random_state parametresi bir hiperparametredir. Çünkü eğitim sırasında değiştirilemez ve manuel olarak uygulanan bir şeydir. Bunun gibi yapılardan başka test_size dediğimiz parametre yine veri kümesini bölerken yaptığımız belki %90-510 şeklinde bölseydik daha iyi sonuç alacaktık. Burada şuan da benim görebildiğim 2 tane var bunun dışında farklı bir metod ile veri kümesini bölebilirdik daha önce gördüğümüz K-Fold Cross-Validation şimdi onu inceleyelim."
   ]
  },
  {
   "cell_type": "code",
   "execution_count": 28,
   "metadata": {},
   "outputs": [
    {
     "name": "stdout",
     "output_type": "stream",
     "text": [
      "İterasyon: 1\n",
      "Training R2: 0.9010 Training MSE: 2.7116\n",
      "Test R2: 0.8787 Test MSE: 3.1365\n",
      "İterasyon: 2\n",
      "Training R2: 0.8904 Training MSE: 2.8897\n",
      "Test R2: 0.9176 Test MSE: 2.4257\n",
      "İterasyon: 3\n",
      "Training R2: 0.8897 Training MSE: 3.1044\n",
      "Test R2: 0.9293 Test MSE: 1.5852\n",
      "İterasyon: 4\n",
      "Training R2: 0.9146 Training MSE: 2.2416\n",
      "Test R2: 0.8144 Test MSE: 5.4262\n",
      "İterasyon: 5\n",
      "Training R2: 0.8962 Training MSE: 2.8218\n",
      "Test R2: 0.8955 Test MSE: 2.7911\n"
     ]
    }
   ],
   "source": [
    "lr_cv = LinearRegression()\n",
    "k = 5 \n",
    "# k default bir değer olarak da 5 alınır ben adımları görmek öğrenmek ve tekrar etmek için yazıyorum\n",
    "iter = 1 # iterasyonları takip etmek için kullanacağım\n",
    "cv = KFold(n_splits=k) \n",
    "# 3 parametre alır n_split bölme sayısı, shuffle veriyi karıştırma bool alır, random state none defa.\n",
    "\n",
    "for training_index, test_index in cv.split(X):\n",
    "    # burada split Kfold un bir fonksiyonudur bize training ve test için ayrılan veri kümelerinin \n",
    "    # indekslerini döner \n",
    "\n",
    "    X_train, X_test = X.iloc[training_index],X.iloc[test_index]\n",
    "    y_train, y_test = y.iloc[training_index],y.iloc[test_index]\n",
    "   # X_train, X_test, Y_train, Y_test = X.iloc[training_index,:], X.iloc[test_index,:], y.iloc[training_index], y.iloc[test_index]\n",
    "    lr_cv.fit(X_train,y_train)\n",
    "\n",
    "    results2 = score(model=lr_cv,x_train=X_train,x_test=X_test,y_train=y_train,y_test=y_test)\n",
    "\n",
    "    print(f\"İterasyon: {iter}\")\n",
    "    print(\"Training R2: {:.4f} Training MSE: {:.4f}\".format(results2[0],results2[2]))\n",
    "    print(\"Test R2: {:.4f} Test MSE: {:.4f}\".format(results2[1],results2[3]))\n",
    "    iter +=1\n",
    "    # çıktı da da görüldüğü gibi 3.iterasyon en mantıklı iterasyon olarak görülmekte \n",
    "    # hem r2 hem de mse test skor u diğerlerine göre iyi. "
   ]
  }
 ],
 "metadata": {
  "kernelspec": {
   "display_name": "Python 3",
   "language": "python",
   "name": "python3"
  },
  "language_info": {
   "codemirror_mode": {
    "name": "ipython",
    "version": 3
   },
   "file_extension": ".py",
   "mimetype": "text/x-python",
   "name": "python",
   "nbconvert_exporter": "python",
   "pygments_lexer": "ipython3",
   "version": "3.12.5"
  },
  "orig_nbformat": 4
 },
 "nbformat": 4,
 "nbformat_minor": 2
}
