{
 "cells": [
  {
   "cell_type": "code",
   "execution_count": 3,
   "metadata": {},
   "outputs": [],
   "source": [
    "import pandas as pd \n",
    "from sklearn.model_selection import train_test_split\n",
    "from sklearn.linear_model import Ridge,Lasso\n",
    "# metrikleri almayacağım ridgenin kendi içinde de score diye bir fonksiyon ile yapıyor \n",
    "# konuyu ele aldığımız için nasıl olduğunu gördük öğrendik bir çok kez de kullandık zaten"
   ]
  },
  {
   "cell_type": "code",
   "execution_count": 4,
   "metadata": {},
   "outputs": [],
   "source": [
    "data = pd.read_csv(r\"C:\\Users\\Kemalettin\\Desktop\\anlasekon\\Python ile Makine Öğrenmesi\\BostonHousing.csv\")\n",
    "data2 = data.copy()"
   ]
  },
  {
   "cell_type": "code",
   "execution_count": 5,
   "metadata": {},
   "outputs": [],
   "source": [
    "y = data2[\"medv\"] # bağımlıdeğişkenimiz \n",
    "X = data2.drop(columns=\"medv\",axis=1)\n",
    "\n",
    "X_train, X_test, y_train, y_test = train_test_split(X,y,test_size=0.2,random_state=3)"
   ]
  },
  {
   "cell_type": "code",
   "execution_count": 6,
   "metadata": {},
   "outputs": [
    {
     "name": "stdout",
     "output_type": "stream",
     "text": [
      "0.7231925387164476\n",
      "0.7911900455702632\n"
     ]
    }
   ],
   "source": [
    "ridge_model = Ridge(alpha=0.5).fit(X_train,y_train)\n",
    "print(ridge_model.score(X_train,y_train))\n",
    "print(ridge_model.score(X_test,y_test))"
   ]
  },
  {
   "cell_type": "code",
   "execution_count": 7,
   "metadata": {},
   "outputs": [
    {
     "name": "stdout",
     "output_type": "stream",
     "text": [
      "0.7130788829904616\n",
      "0.7781325701654644\n"
     ]
    }
   ],
   "source": [
    "# ridgeyi de görmüştük zaten alpha da lambda sabitimiz \n",
    "# Şimdi yine aynı kütüphaneden eklediğimiz Lasso regresyonunu görelim\n",
    "lass_model = Lasso(alpha=0.1).fit(X_train,y_train)\n",
    "print(lass_model.score(X_train,y_train))\n",
    "print(lass_model.score(X_test,y_test))"
   ]
  },
  {
   "cell_type": "markdown",
   "metadata": {},
   "source": [
    "tabi bizim gözlemlemek istediğimi lassonun ridgeden farkını tam görmek \n",
    "zaten cezalandırma işlemi çok katı olduğu için başarı oranının düştüğü görülüyor. \n",
    "ridgeden farkı beta karakterlerinden işe yaramayan ya da anlamsız (p(t)<0.05) olanları\n",
    "0 a eşitleyerek modelden dışlıyor. "
   ]
  },
  {
   "cell_type": "code",
   "execution_count": 8,
   "metadata": {},
   "outputs": [
    {
     "name": "stdout",
     "output_type": "stream",
     "text": [
      "[-1.21790178e-01  4.84274483e-02 -6.67541535e-02  3.27053220e+00\n",
      " -1.10530544e+01  3.63279229e+00 -1.34407097e-02 -1.39938937e+00\n",
      "  2.92168740e-01 -1.09981055e-02 -8.54768803e-01  1.02290603e-02\n",
      " -4.85349871e-01]\n",
      "[-0.11469086  0.04982345 -0.09373167  1.60847689 -0.          3.51494142\n",
      " -0.01888261 -1.18575423  0.26859655 -0.01204955 -0.73803508  0.01068735\n",
      " -0.52980413]\n"
     ]
    }
   ],
   "source": [
    "print(ridge_model.coef_)\n",
    "print(lass_model.coef_)\n",
    "# görüldüğü gibi ridge modelinde 0 olan yok iken lasso da 4.parametre sıfıra eşitlenmiş\n",
    "# hiper parametrelerin daha doğru ayarlanması ile belki bir kaç değişkeni daha dışlayabilir\n",
    "# böylece daha sade ve efektif model oluşturarak maliyet azaltma yapabiliriz "
   ]
  }
 ],
 "metadata": {
  "kernelspec": {
   "display_name": "Python 3",
   "language": "python",
   "name": "python3"
  },
  "language_info": {
   "codemirror_mode": {
    "name": "ipython",
    "version": 3
   },
   "file_extension": ".py",
   "mimetype": "text/x-python",
   "name": "python",
   "nbconvert_exporter": "python",
   "pygments_lexer": "ipython3",
   "version": "3.12.5"
  },
  "orig_nbformat": 4
 },
 "nbformat": 4,
 "nbformat_minor": 2
}
