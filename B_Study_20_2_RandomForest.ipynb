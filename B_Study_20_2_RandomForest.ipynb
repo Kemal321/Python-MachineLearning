{
 "cells": [
  {
   "cell_type": "code",
   "execution_count": 8,
   "metadata": {},
   "outputs": [],
   "source": [
    "import pandas as pd\n",
    "import numpy as np \n",
    "from sklearn.tree import DecisionTreeRegressor\n",
    "from sklearn.ensemble import RandomForestRegressor,BaggingRegressor\n",
    "import matplotlib.pyplot as plt\n",
    "from sklearn.model_selection import train_test_split,GridSearchCV\n",
    "import sklearn.metrics as mt"
   ]
  },
  {
   "cell_type": "code",
   "execution_count": 3,
   "metadata": {},
   "outputs": [
    {
     "data": {
      "text/html": [
       "<div>\n",
       "<style scoped>\n",
       "    .dataframe tbody tr th:only-of-type {\n",
       "        vertical-align: middle;\n",
       "    }\n",
       "\n",
       "    .dataframe tbody tr th {\n",
       "        vertical-align: top;\n",
       "    }\n",
       "\n",
       "    .dataframe thead th {\n",
       "        text-align: right;\n",
       "    }\n",
       "</style>\n",
       "<table border=\"1\" class=\"dataframe\">\n",
       "  <thead>\n",
       "    <tr style=\"text-align: right;\">\n",
       "      <th></th>\n",
       "      <th>TV</th>\n",
       "      <th>Radio</th>\n",
       "      <th>Newspaper</th>\n",
       "      <th>Sales</th>\n",
       "    </tr>\n",
       "  </thead>\n",
       "  <tbody>\n",
       "    <tr>\n",
       "      <th>1</th>\n",
       "      <td>230.1</td>\n",
       "      <td>37.8</td>\n",
       "      <td>69.2</td>\n",
       "      <td>22.1</td>\n",
       "    </tr>\n",
       "    <tr>\n",
       "      <th>2</th>\n",
       "      <td>44.5</td>\n",
       "      <td>39.3</td>\n",
       "      <td>45.1</td>\n",
       "      <td>10.4</td>\n",
       "    </tr>\n",
       "    <tr>\n",
       "      <th>3</th>\n",
       "      <td>17.2</td>\n",
       "      <td>45.9</td>\n",
       "      <td>69.3</td>\n",
       "      <td>9.3</td>\n",
       "    </tr>\n",
       "    <tr>\n",
       "      <th>4</th>\n",
       "      <td>151.5</td>\n",
       "      <td>41.3</td>\n",
       "      <td>58.5</td>\n",
       "      <td>18.5</td>\n",
       "    </tr>\n",
       "    <tr>\n",
       "      <th>5</th>\n",
       "      <td>180.8</td>\n",
       "      <td>10.8</td>\n",
       "      <td>58.4</td>\n",
       "      <td>12.9</td>\n",
       "    </tr>\n",
       "  </tbody>\n",
       "</table>\n",
       "</div>"
      ],
      "text/plain": [
       "      TV  Radio  Newspaper  Sales\n",
       "1  230.1   37.8       69.2   22.1\n",
       "2   44.5   39.3       45.1   10.4\n",
       "3   17.2   45.9       69.3    9.3\n",
       "4  151.5   41.3       58.5   18.5\n",
       "5  180.8   10.8       58.4   12.9"
      ]
     },
     "execution_count": 3,
     "metadata": {},
     "output_type": "execute_result"
    }
   ],
   "source": [
    "data = pd.read_csv(\"../Python ile Makine Öğrenmesi/Advertising.csv\",index_col=0)\n",
    "\n",
    "data2 = data.copy()\n",
    "data2.head()"
   ]
  },
  {
   "cell_type": "code",
   "execution_count": 4,
   "metadata": {},
   "outputs": [],
   "source": [
    "y = data2[\"Sales\"]\n",
    "X = data2.drop(columns=\"Sales\",axis=1)\n",
    "\n",
    "X_train, X_test, y_train, y_test = train_test_split(X,y,test_size=0.2,random_state=3)"
   ]
  },
  {
   "cell_type": "code",
   "execution_count": 6,
   "metadata": {},
   "outputs": [],
   "source": [
    "dtModel = DecisionTreeRegressor()\n",
    "dtModel.fit(X_train,y_train)\n",
    "dtTahmin = dtModel.predict(X_test)\n",
    "\n",
    "bgModel = BaggingRegressor()\n",
    "bgModel.fit(X_train,y_train)\n",
    "bgTahmin = bgModel.predict(X_test)\n",
    "\n",
    "rfModel = RandomForestRegressor()\n",
    "rfModel.fit(X_train,y_train)\n",
    "rfTahmin = rfModel.predict(X_test)"
   ]
  },
  {
   "cell_type": "code",
   "execution_count": 7,
   "metadata": {},
   "outputs": [
    {
     "name": "stdout",
     "output_type": "stream",
     "text": [
      "Karar ağacı Modeli R2: 0.9531739009005923 MSE: 1.1704999999999999\n",
      "Bagging Karar ağacı Modeli R2: 0.9816291071912117 MSE: 0.4592124999999999\n",
      "Random Forest Modeli R2: 0.9835124394952444 MSE: 0.41213532499999717\n"
     ]
    }
   ],
   "source": [
    "r2dt = mt.r2_score(y_test,dtTahmin)\n",
    "r2bg = mt.r2_score(y_test,bgTahmin)\n",
    "r2rf = mt.r2_score(y_test,rfTahmin)\n",
    "\n",
    "msedt = mt.mean_squared_error(y_test,dtTahmin)\n",
    "msebg = mt.mean_squared_error(y_test,bgTahmin)\n",
    "mserf = mt.mean_squared_error(y_test,rfTahmin)\n",
    "\n",
    "print(f\"Karar ağacı Modeli R2: {r2dt} MSE: {msedt}\")\n",
    "print(f\"Bagging Karar ağacı Modeli R2: {r2bg} MSE: {msebg}\")\n",
    "print(f\"Random Forest Modeli R2: {r2rf} MSE: {mserf}\")"
   ]
  },
  {
   "cell_type": "code",
   "execution_count": 16,
   "metadata": {},
   "outputs": [
    {
     "name": "stderr",
     "output_type": "stream",
     "text": [
      "c:\\Users\\Kemalettin\\AppData\\Local\\Programs\\Python\\Python312\\Lib\\site-packages\\numpy\\ma\\core.py:2881: RuntimeWarning: invalid value encountered in cast\n",
      "  _data = np.array(data, dtype=dtype, copy=copy,\n"
     ]
    },
    {
     "name": "stdout",
     "output_type": "stream",
     "text": [
      "{'max_leaf_nodes': 19, 'min_samples_split': 9}\n",
      "{'n_estimators': 19}\n",
      "{'max_depth': 14, 'max_features': 4, 'n_estimators': 8}\n"
     ]
    }
   ],
   "source": [
    "# Şimdi Cross val kullanan GridSearch ı kullanalım\n",
    "dtparams = {\"max_leaf_nodes\":range(2,20),\"min_samples_split\":range(2,20)}\n",
    "dtgrid = GridSearchCV(dtModel,param_grid=dtparams,cv=10,n_jobs=-1)\n",
    "dtgrid.fit(X_train,y_train)\n",
    "print(dtgrid.best_params_)\n",
    "\n",
    "bgparams = {\"n_estimators\":range(2,20)}\n",
    "bggrid = GridSearchCV(bgModel,param_grid=bgparams,cv=10,n_jobs=-1)\n",
    "bggrid.fit(X_train,y_train)\n",
    "print(bggrid.best_params_)\n",
    "\n",
    "rfparams = {\"max_depth\":range(2,20),\"max_features\":range(3,20),\"n_estimators\":range(2,10)}\n",
    "rfgrid = GridSearchCV(rfModel,param_grid=rfparams,cv=10,n_jobs=-1)\n",
    "rfgrid.fit(X_train,y_train)\n",
    "print(rfgrid.best_params_)\n",
    "\n",
    "# Random forest biraz daha yavaş sürüyor çünkü daha fazla parametre var. Sonuçta bir ensemble model\n",
    "# runtime error aldım :D 8 dakika beklemiştim neyse uzun sürdüğünü görelim işte bu gibi olaylardan dolayı\n",
    "# teknoloji bir gelişim yaşayıp multithread gibi paralel çalışma mantığını geliştirdi \n",
    "# GridSearchCV de de n_jobs = -1 parametresi ile bunu gerçekleştirebiliyoruz\n",
    "# böyle 4 dakika 40 saniye sürdü bu kadar küçük bir veri setinde bile çok yüksek süreler.\n",
    "# Tek harf hatasından dolayı 17 dakika çöp oldu"
   ]
  },
  {
   "cell_type": "code",
   "execution_count": 18,
   "metadata": {},
   "outputs": [
    {
     "name": "stdout",
     "output_type": "stream",
     "text": [
      "Karar ağacı Modeli R2: 0.9531739009005923 MSE: 1.1704999999999999\n",
      "Bagging Karar ağacı Modeli R2: 0.9816291071912117 MSE: 0.4592124999999999\n",
      "Random Forest Modeli R2: 0.9835124394952444 MSE: 0.41213532499999717\n",
      "Karar ağacı Modeli R2: 0.9329966174424792 MSE: 1.6748663841735678\n",
      "Bagging Karar ağacı Modeli R2: 0.9853647604267122 MSE: 0.3658333333333342\n",
      "Random Forest Modeli R2: 0.9845653333846733 MSE: 0.38581640624999963\n"
     ]
    }
   ],
   "source": [
    "dtModel2 = DecisionTreeRegressor(max_leaf_nodes=19,min_samples_split=9)\n",
    "dtModel2.fit(X_train,y_train)\n",
    "dtTahmin2 = dtModel2.predict(X_test)\n",
    "\n",
    "bgModel2 = BaggingRegressor(n_estimators=15)\n",
    "bgModel2.fit(X_train,y_train)\n",
    "bgTahmin2 = bgModel2.predict(X_test)\n",
    "\n",
    "rfModel2 = RandomForestRegressor(max_depth=14,max_features=4,n_estimators=8)\n",
    "rfModel2.fit(X_train,y_train)\n",
    "rfTahmin2 = rfModel2.predict(X_test)\n",
    "\n",
    "r2dtGrid = mt.r2_score(y_test,dtTahmin2)\n",
    "r2bgGrid = mt.r2_score(y_test,bgTahmin2)\n",
    "r2rfGrid = mt.r2_score(y_test,rfTahmin2)\n",
    "\n",
    "msedtGrid = mt.mean_squared_error(y_test,dtTahmin2)\n",
    "msebgGrid = mt.mean_squared_error(y_test,bgTahmin2)\n",
    "mserfGrid = mt.mean_squared_error(y_test,rfTahmin2)\n",
    "\n",
    "\n",
    "# normalde fonksiyon ile yapmak lazım ama çok süre harcadım o yüzden dümdüz yapmak daha hızlı geliyor.\n",
    "print(f\"Karar ağacı Modeli R2: {r2dt} MSE: {msedt}\")\n",
    "print(f\"Bagging Karar ağacı Modeli R2: {r2bg} MSE: {msebg}\")\n",
    "print(f\"Random Forest Modeli R2: {r2rf} MSE: {mserf}\")\n",
    "\n",
    "print(f\"Karar ağacı Modeli R2: {r2dtGrid} MSE: {msedtGrid}\")\n",
    "print(f\"Bagging Karar ağacı Modeli R2: {r2bgGrid} MSE: {msebgGrid}\")\n",
    "print(f\"Random Forest Modeli R2: {r2rfGrid} MSE: {mserfGrid}\")\n",
    "# sonçlarda zaten hata fonksiyon değerlerimizin ne kadar düştüğü ortada özellikle RandomForest ile meraber güzel düşüş var \n",
    "# ek olarak random forest ın parametrelerini diğerlerine göre daha küçük aralık verdim bu yönden düşünmek gerek."
   ]
  }
 ],
 "metadata": {
  "kernelspec": {
   "display_name": "Python 3",
   "language": "python",
   "name": "python3"
  },
  "language_info": {
   "codemirror_mode": {
    "name": "ipython",
    "version": 3
   },
   "file_extension": ".py",
   "mimetype": "text/x-python",
   "name": "python",
   "nbconvert_exporter": "python",
   "pygments_lexer": "ipython3",
   "version": "3.12.5"
  },
  "orig_nbformat": 4
 },
 "nbformat": 4,
 "nbformat_minor": 2
}
