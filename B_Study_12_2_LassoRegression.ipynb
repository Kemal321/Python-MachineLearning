{
 "cells": [
  {
   "cell_type": "code",
   "execution_count": 7,
   "metadata": {},
   "outputs": [],
   "source": [
    "import pandas as pd \n",
    "from sklearn.model_selection import train_test_split\n",
    "from sklearn.linear_model import Ridge,Lasso,LassoCV"
   ]
  },
  {
   "cell_type": "code",
   "execution_count": 2,
   "metadata": {},
   "outputs": [],
   "source": [
    "data = pd.read_csv(r\"C:\\Users\\Kemalettin\\Desktop\\anlasekon\\Python ile Makine Öğrenmesi\\BostonHousing.csv\")\n",
    "data2 = data.copy()"
   ]
  },
  {
   "cell_type": "code",
   "execution_count": 3,
   "metadata": {},
   "outputs": [],
   "source": [
    "y = data2[\"medv\"]\n",
    "X = data2.drop(columns=\"medv\",axis=1)\n",
    "\n",
    "X_train, X_test, y_train, y_test = train_test_split(X,y,test_size=0.2,random_state=3)"
   ]
  },
  {
   "cell_type": "code",
   "execution_count": 4,
   "metadata": {},
   "outputs": [
    {
     "name": "stdout",
     "output_type": "stream",
     "text": [
      "0.7231925387164476\n",
      "0.7911900455702632\n"
     ]
    }
   ],
   "source": [
    "ridge_model = Ridge(alpha=0.5).fit(X_train,y_train)\n",
    "print(ridge_model.score(X_train,y_train))\n",
    "print(ridge_model.score(X_test,y_test))"
   ]
  },
  {
   "cell_type": "code",
   "execution_count": 5,
   "metadata": {},
   "outputs": [
    {
     "name": "stdout",
     "output_type": "stream",
     "text": [
      "0.7130788829904616\n",
      "0.7781325701654644\n"
     ]
    }
   ],
   "source": [
    "lass_model = Lasso(alpha=0.1).fit(X_train,y_train)\n",
    "print(lass_model.score(X_train,y_train))\n",
    "print(lass_model.score(X_test,y_test))"
   ]
  },
  {
   "cell_type": "code",
   "execution_count": 10,
   "metadata": {},
   "outputs": [
    {
     "data": {
      "text/plain": [
       "np.float64(0.7221316690765611)"
      ]
     },
     "execution_count": 10,
     "metadata": {},
     "output_type": "execute_result"
    }
   ],
   "source": [
    "# daha önceki çalışma da Lassoyu kullandık ve hiperparametrelerin daha iyi seçilmesinden\n",
    "# ve bunun etkisinden bahsettik burada hiper parametreleri cross-validation yöntemi ile \n",
    "# çapraz doğrulama ile yani optimal olan değeri bulmaya çalışacağız\n",
    "lamdas = LassoCV(cv=10,max_iter=10000).fit(X_train,y_train)\n",
    "lamdas.alpha_"
   ]
  },
  {
   "cell_type": "code",
   "execution_count": 11,
   "metadata": {},
   "outputs": [
    {
     "name": "stdout",
     "output_type": "stream",
     "text": [
      "0.6858241847193687\n",
      "0.7461168196038328\n"
     ]
    }
   ],
   "source": [
    "# bir önceki hücrede bulduğumuz alfa değerini ve daha önceki çalışmalarda yaptıklarımızla karşılaştıralım\n",
    "lass_model2 = Lasso(alpha=0.7221316690765611).fit(X_train,y_train)\n",
    "print(lass_model2.score(X_train,y_train))\n",
    "print(lass_model2.score(X_test,y_test))"
   ]
  },
  {
   "cell_type": "markdown",
   "metadata": {},
   "source": [
    "Daha önceki sonuçlarla karşılaştırıldığında biraz daha düşük r2 skorları aldık.Burada düştü diye üzülmemek lazım neden düştüğünü anlamak lazım. Bu metodların kullanımının nedeni zaten yüksek r2 skorlarının yalan olup olmadığını anlamaya çalışmak. Yani bunları kullanmamızın nedeni sadece underfitting yani eksik öğrenme değil aynı zaman da aşırı öğrenme durumundan kaçınmak için kullanırız. Tabi bu metodları kullanmaya karar vermezden önce data preprocessing yani veri önişleme süreçlerini gerçekleştirmemiz lazım. Öncelikle varsayımları kontrol etmemiz lazım onlar sağlıyor mu eksik değerlerimiz var mı aykırı değerimiz var mı bunları nasıl çözeceğiz işin için bir çok parametre ve yorumlama giriyor. Şuan bu şekilde bir örnek yapmayacağım çünkü konuyu tam bitirmemiz gerekiyor. Regresyon konusunu tam bitirdikten sonra regresyon ile tam bir end-to-end proje yapmaya çalışacağız. Geriye ElasticNet kaldı. "
   ]
  },
  {
   "cell_type": "code",
   "execution_count": 14,
   "metadata": {},
   "outputs": [
    {
     "name": "stdout",
     "output_type": "stream",
     "text": [
      "12 11\n"
     ]
    }
   ],
   "source": [
    "print(sum(lass_model.coef_ != 0),sum(lass_model2.coef_ != 0 )) "
   ]
  },
  {
   "cell_type": "markdown",
   "metadata": {},
   "source": [
    "bakın demek istediğimiz bu ridge de 13 değişken vardı lasso da 12 optimal olarak bulduğumuz\n",
    "lambda değeri ile 11 tane kaldı modelimizden 2 parametre dışlanmış oldu. \n",
    "doğrulukta kaybımız yüzde 1 2 nerdeyse hiç bir etkisi olmayan parametreler gereksiz maliyet oluşturuyor\n",
    "olaydan olaya işten işe problemden probleme bunun mantıklı olup olmadığına karar verecek olan \n",
    "kişiler biz mühendisler olacağız."
   ]
  }
 ],
 "metadata": {
  "kernelspec": {
   "display_name": "Python 3",
   "language": "python",
   "name": "python3"
  },
  "language_info": {
   "codemirror_mode": {
    "name": "ipython",
    "version": 3
   },
   "file_extension": ".py",
   "mimetype": "text/x-python",
   "name": "python",
   "nbconvert_exporter": "python",
   "pygments_lexer": "ipython3",
   "version": "3.12.5"
  },
  "orig_nbformat": 4
 },
 "nbformat": 4,
 "nbformat_minor": 2
}
