{
 "cells": [
  {
   "cell_type": "code",
   "execution_count": 16,
   "metadata": {},
   "outputs": [],
   "source": [
    "import pandas as pd \n",
    "from sklearn.model_selection import train_test_split,GridSearchCV\n",
    "from sklearn.tree import DecisionTreeRegressor\n",
    "import sklearn.metrics as mt"
   ]
  },
  {
   "cell_type": "code",
   "execution_count": 4,
   "metadata": {},
   "outputs": [
    {
     "data": {
      "text/html": [
       "<div>\n",
       "<style scoped>\n",
       "    .dataframe tbody tr th:only-of-type {\n",
       "        vertical-align: middle;\n",
       "    }\n",
       "\n",
       "    .dataframe tbody tr th {\n",
       "        vertical-align: top;\n",
       "    }\n",
       "\n",
       "    .dataframe thead th {\n",
       "        text-align: right;\n",
       "    }\n",
       "</style>\n",
       "<table border=\"1\" class=\"dataframe\">\n",
       "  <thead>\n",
       "    <tr style=\"text-align: right;\">\n",
       "      <th></th>\n",
       "      <th>Temperature</th>\n",
       "      <th>Revenue</th>\n",
       "    </tr>\n",
       "  </thead>\n",
       "  <tbody>\n",
       "    <tr>\n",
       "      <th>0</th>\n",
       "      <td>24.566884</td>\n",
       "      <td>534.799028</td>\n",
       "    </tr>\n",
       "    <tr>\n",
       "      <th>1</th>\n",
       "      <td>26.005191</td>\n",
       "      <td>625.190122</td>\n",
       "    </tr>\n",
       "    <tr>\n",
       "      <th>2</th>\n",
       "      <td>27.790554</td>\n",
       "      <td>660.632289</td>\n",
       "    </tr>\n",
       "    <tr>\n",
       "      <th>3</th>\n",
       "      <td>20.595335</td>\n",
       "      <td>487.706960</td>\n",
       "    </tr>\n",
       "    <tr>\n",
       "      <th>4</th>\n",
       "      <td>11.503498</td>\n",
       "      <td>316.240194</td>\n",
       "    </tr>\n",
       "  </tbody>\n",
       "</table>\n",
       "</div>"
      ],
      "text/plain": [
       "   Temperature     Revenue\n",
       "0    24.566884  534.799028\n",
       "1    26.005191  625.190122\n",
       "2    27.790554  660.632289\n",
       "3    20.595335  487.706960\n",
       "4    11.503498  316.240194"
      ]
     },
     "execution_count": 4,
     "metadata": {},
     "output_type": "execute_result"
    }
   ],
   "source": [
    "data = pd.read_csv(\"https://raw.githubusercontent.com/gurucharan-marthi/Regression/refs/heads/master/IceCreamData.csv\")\n",
    "data2 = data.copy()\n",
    "data2.head()"
   ]
  },
  {
   "cell_type": "code",
   "execution_count": 5,
   "metadata": {},
   "outputs": [],
   "source": [
    "# Split the data\n",
    "y = data2[\"Revenue\"]\n",
    "X = data2[\"Temperature\"]\n",
    "\n",
    "X_train, X_test, y_train, y_test = train_test_split(X,y,test_size=0.1,random_state=3)"
   ]
  },
  {
   "cell_type": "code",
   "execution_count": 12,
   "metadata": {},
   "outputs": [
    {
     "name": "stdout",
     "output_type": "stream",
     "text": [
      "[521.6728037 651.1862423 402.7931738 659.8732869 496.0112948 491.4304998\n",
      " 516.5486011 654.7474611 623.5988607 242.5098553 594.8048712 458.860905\n",
      " 501.34533   603.3246306 406.516091  749.3671543 428.8543561 335.8156867\n",
      " 569.6187562 696.6401775 655.4339792 381.0433769 523.1245467 381.0433769\n",
      " 623.5988607 429.4357021 170.2377561 278.4182651 550.7014036 564.3105317\n",
      " 659.8732869 617.1007232 675.807151  401.4330183 228.9010303 432.8197952\n",
      " 437.2519927 541.2936627 658.5937316 800.2024937 666.1368355 334.4337199\n",
      " 276.3733742 618.1720908 530.7482251 448.9304429 534.7990284 278.7319615\n",
      " 659.8732869 841.1714271]\n"
     ]
    }
   ],
   "source": [
    "# create model\n",
    "model = DecisionTreeRegressor(random_state=3)\n",
    "model.fit(X_train.values.reshape(-1,1),y_train.values.reshape(-1,1))\n",
    "y_preds = model.predict(X_test.values.reshape(-1,1))\n",
    "print(y_preds) # bunu yapmak lazım hata alabiliriz ki aldık \n",
    "# bunun nedeni belli zaten array olarak istiyor ve yukarıda array e çevirmemiş."
   ]
  },
  {
   "cell_type": "code",
   "execution_count": 15,
   "metadata": {},
   "outputs": [
    {
     "name": "stdout",
     "output_type": "stream",
     "text": [
      "R2 Skor: 0.9588585344467325\n",
      "MSE Skor: 987.371785137487\n"
     ]
    }
   ],
   "source": [
    "# residuals \n",
    "r2 = mt.r2_score(y_test,y_preds)\n",
    "mse = mt.mean_squared_error(y_test,y_preds)\n",
    "print(f\"R2 Skor: {r2}\\nMSE Skor: {mse}\")"
   ]
  },
  {
   "cell_type": "markdown",
   "metadata": {},
   "source": [
    "Buraya kadar herşey normal bir şekilde yaptığımız şeyler ama hiperparametreleri ayarlamamız gerek eğer iyi bir model istiyorsak. Bu nokta da GridSearchCV yi Decision tree için de kullanabiliriz. Şimdi bununla devam ederek belirli aralık veya sayılarda optimal hiperparametre araması yapalım."
   ]
  },
  {
   "cell_type": "code",
   "execution_count": 17,
   "metadata": {},
   "outputs": [
    {
     "name": "stdout",
     "output_type": "stream",
     "text": [
      "{'max_leaf_nodes': 38, 'min_samples_split': 4}\n"
     ]
    },
    {
     "name": "stderr",
     "output_type": "stream",
     "text": [
      "c:\\Users\\Kemalettin\\AppData\\Local\\Programs\\Python\\Python312\\Lib\\site-packages\\numpy\\ma\\core.py:2881: RuntimeWarning: invalid value encountered in cast\n",
      "  _data = np.array(data, dtype=dtype, copy=copy,\n"
     ]
    }
   ],
   "source": [
    "# Bir çok parametre var ben bazılarını yapacağım uygulama yapmak için\n",
    "# çünkü hepsini yaparsak geniş aralık olursa bu süreci uzatır zaten bu işin\n",
    "# zor kısımları buralar.\n",
    "parametreler = {\"min_samples_split\":range(2,50),\"max_leaf_nodes\":range(2,50)}\n",
    "grid = GridSearchCV(model,param_grid=parametreler,cv=10)\n",
    "grid.fit(X_train.values.reshape(-1,1),y_train.values.reshape(-1,1))\n",
    "print(grid.best_params_)"
   ]
  },
  {
   "cell_type": "markdown",
   "metadata": {},
   "source": [
    "{'max_leaf_nodes': 38, 'min_samples_split': 4} Çıktımız bu şekilde şimdi hiç bir hiper parametre vermeden oluşturulan modelimizi buna göre yenileyelim ve MSE hata değerimiz azalacak mı bunu kontrol edelim. Unutmamak gerekir ki R2 skor değerimiz düşerken MSE değerimiz de düşebilir burada modelimizin baktığı Objective function veya Loss veya Cost function bir çok şekilde adlandırılır. Hangi fonksiyonu minimize etmeyi amaçlıyorsa onun inmesi için yapılan bir optimizasyon olduğunu bilmek gerekir. "
   ]
  },
  {
   "cell_type": "code",
   "execution_count": 20,
   "metadata": {},
   "outputs": [
    {
     "name": "stdout",
     "output_type": "stream",
     "text": [
      "R2 Skor: 0.9588585344467325\n",
      "MSE Skor: 987.371785137487\n",
      "R2_2 Skor: 0.9755615021087739\n",
      "MSE_2 Skor: 586.5100565680331\n"
     ]
    }
   ],
   "source": [
    "model2 = DecisionTreeRegressor(max_leaf_nodes=38,min_samples_split=4)\n",
    "model2.fit(X_train.values.reshape(-1,1),y_train.values.reshape(-1,1))\n",
    "y_preds2 = model2.predict(X_test.values.reshape(-1,1))\n",
    "\n",
    "r22 = mt.r2_score(y_test,y_preds2)\n",
    "mse2 = mt.mean_squared_error(y_test,y_preds2)\n",
    "print(f\"R2 Skor: {r2}\\nMSE Skor: {mse}\\nR2_2 Skor: {r22}\\nMSE_2 Skor: {mse2}\")\n",
    "\n",
    "# Görüldüğü üzere burada hem R2 skorumuz artarken hem de Hata seviyemiz aşağı seviyelere çekilmiş durumda."
   ]
  }
 ],
 "metadata": {
  "kernelspec": {
   "display_name": "Python 3",
   "language": "python",
   "name": "python3"
  },
  "language_info": {
   "codemirror_mode": {
    "name": "ipython",
    "version": 3
   },
   "file_extension": ".py",
   "mimetype": "text/x-python",
   "name": "python",
   "nbconvert_exporter": "python",
   "pygments_lexer": "ipython3",
   "version": "3.12.5"
  },
  "orig_nbformat": 4
 },
 "nbformat": 4,
 "nbformat_minor": 2
}
