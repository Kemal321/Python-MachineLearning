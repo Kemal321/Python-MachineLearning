{
 "cells": [
  {
   "cell_type": "code",
   "execution_count": 25,
   "metadata": {},
   "outputs": [],
   "source": [
    "import pandas as pd\n",
    "from sklearn.model_selection import train_test_split\n",
    "from sklearn.linear_model import LinearRegression,Ridge\n",
    "import sklearn.metrics as mt\n",
    "import numpy as np\n",
    "import matplotlib.pyplot as plt"
   ]
  },
  {
   "cell_type": "code",
   "execution_count": 3,
   "metadata": {},
   "outputs": [
    {
     "data": {
      "text/html": [
       "<div>\n",
       "<style scoped>\n",
       "    .dataframe tbody tr th:only-of-type {\n",
       "        vertical-align: middle;\n",
       "    }\n",
       "\n",
       "    .dataframe tbody tr th {\n",
       "        vertical-align: top;\n",
       "    }\n",
       "\n",
       "    .dataframe thead th {\n",
       "        text-align: right;\n",
       "    }\n",
       "</style>\n",
       "<table border=\"1\" class=\"dataframe\">\n",
       "  <thead>\n",
       "    <tr style=\"text-align: right;\">\n",
       "      <th></th>\n",
       "      <th>TV</th>\n",
       "      <th>Radio</th>\n",
       "      <th>Newspaper</th>\n",
       "      <th>Sales</th>\n",
       "    </tr>\n",
       "  </thead>\n",
       "  <tbody>\n",
       "    <tr>\n",
       "      <th>1</th>\n",
       "      <td>230.1</td>\n",
       "      <td>37.8</td>\n",
       "      <td>69.2</td>\n",
       "      <td>22.1</td>\n",
       "    </tr>\n",
       "    <tr>\n",
       "      <th>2</th>\n",
       "      <td>44.5</td>\n",
       "      <td>39.3</td>\n",
       "      <td>45.1</td>\n",
       "      <td>10.4</td>\n",
       "    </tr>\n",
       "    <tr>\n",
       "      <th>3</th>\n",
       "      <td>17.2</td>\n",
       "      <td>45.9</td>\n",
       "      <td>69.3</td>\n",
       "      <td>9.3</td>\n",
       "    </tr>\n",
       "    <tr>\n",
       "      <th>4</th>\n",
       "      <td>151.5</td>\n",
       "      <td>41.3</td>\n",
       "      <td>58.5</td>\n",
       "      <td>18.5</td>\n",
       "    </tr>\n",
       "    <tr>\n",
       "      <th>5</th>\n",
       "      <td>180.8</td>\n",
       "      <td>10.8</td>\n",
       "      <td>58.4</td>\n",
       "      <td>12.9</td>\n",
       "    </tr>\n",
       "  </tbody>\n",
       "</table>\n",
       "</div>"
      ],
      "text/plain": [
       "      TV  Radio  Newspaper  Sales\n",
       "1  230.1   37.8       69.2   22.1\n",
       "2   44.5   39.3       45.1   10.4\n",
       "3   17.2   45.9       69.3    9.3\n",
       "4  151.5   41.3       58.5   18.5\n",
       "5  180.8   10.8       58.4   12.9"
      ]
     },
     "execution_count": 3,
     "metadata": {},
     "output_type": "execute_result"
    }
   ],
   "source": [
    "data = pd.read_csv(r\"C:\\Users\\Kemalettin\\Desktop\\anlasekon\\Python ile Makine Öğrenmesi\\Advertising.csv\",index_col=0)\n",
    "data2 = data.copy()\n",
    "data2.head()"
   ]
  },
  {
   "cell_type": "code",
   "execution_count": 16,
   "metadata": {},
   "outputs": [],
   "source": [
    "y = data2[\"Sales\"]\n",
    "X = data2.drop(columns=\"Sales\",axis=1)\n",
    "\n",
    "X_train, X_test, y_train, y_test = train_test_split(X,y,test_size=0.2,random_state=42)"
   ]
  },
  {
   "cell_type": "code",
   "execution_count": 18,
   "metadata": {},
   "outputs": [
    {
     "name": "stdout",
     "output_type": "stream",
     "text": [
      "R2 skoru: 0.899438024100912\n",
      "MSE skoru: 3.1740973539761033\n"
     ]
    }
   ],
   "source": [
    "lr = LinearRegression()\n",
    "lr.fit(X_train,y_train)\n",
    "\n",
    "y_pred = lr.predict(X_test)\n",
    "r2 = mt.r2_score(y_test,y_pred)\n",
    "mse = mt.mean_squared_error(y_test,y_pred)\n",
    "\n",
    "print(f\"R2 skoru: {r2}\\nMSE skoru: {mse}\")"
   ]
  },
  {
   "cell_type": "code",
   "execution_count": 19,
   "metadata": {},
   "outputs": [
    {
     "name": "stdout",
     "output_type": "stream",
     "text": [
      "R2 Rid skoru: 0.899438024100912\n",
      "MSE Rid skoru: 3.1740973539761033\n"
     ]
    }
   ],
   "source": [
    "# buraya kadar yaptıklarımız artık genel ridgeyi görelim lambdanın etkisini görelim\n",
    "rid_model = Ridge(alpha=0.5)\n",
    "rid_model.fit(X_train,y_train)\n",
    "rid_pred = rid_model.predict(X_test)\n",
    "\n",
    "r2rid = mt.r2_score(y_test,y_pred)\n",
    "mserid = mt.mean_squared_error(y_test,y_pred)\n",
    "\n",
    "print(f\"R2 Rid skoru: {r2rid}\\nMSE Rid skoru: {mserid}\")\n",
    "# çıktıya bakınca çok yüksek bir fark yokmuş gibi gelebilir bunun nedeni burada çoklu doğrusallıkla\n",
    "# ilgili bir problem yokmuş olsaydı baya etki edecekti bu etkiyi görmek için görmek için\n",
    "# hiper parametre olan lambda burada alpha olarak geçen değeri yükseltelim"
   ]
  },
  {
   "cell_type": "code",
   "execution_count": 17,
   "metadata": {},
   "outputs": [
    {
     "name": "stdout",
     "output_type": "stream",
     "text": [
      "R2 Rid skoru: -0.4426487248572133\n",
      "MSE Rid skoru: 45.5351782753486\n"
     ]
    }
   ],
   "source": [
    "rid_model2 = Ridge(alpha=1000)\n",
    "rid_model2.fit(X_train,y_train)\n",
    "rid_pred2 = rid_model2.predict(X_test)\n",
    "\n",
    "r2rid2 = mt.r2_score(y_test,y_pred)\n",
    "mserid2 = mt.mean_squared_error(y_test,y_pred)\n",
    "\n",
    "print(f\"R2 Rid skoru: {r2rid2}\\nMSE Rid skoru: {mserid2}\") # mesela 3.random stateyi dğeiştirdim tabi\n",
    "# o nasıl denk geldiyse en iyi haliydi sanırım :D görüldüğü gibi çok fena bozuldu \n",
    "# anomali ortaya çıktı "
   ]
  },
  {
   "cell_type": "code",
   "execution_count": 35,
   "metadata": {},
   "outputs": [
    {
     "name": "stdout",
     "output_type": "stream",
     "text": [
      "[5.00000000e+09 3.78231664e+09 2.86118383e+09 2.16438064e+09\n",
      " 1.63727458e+09 1.23853818e+09 9.36908711e+08 7.08737081e+08\n",
      " 5.36133611e+08 4.05565415e+08 3.06795364e+08 2.32079442e+08\n",
      " 1.75559587e+08 1.32804389e+08 1.00461650e+08 7.59955541e+07\n",
      " 5.74878498e+07 4.34874501e+07 3.28966612e+07 2.48851178e+07\n",
      " 1.88246790e+07 1.42401793e+07 1.07721735e+07 8.14875417e+06\n",
      " 6.16423370e+06 4.66301673e+06 3.52740116e+06 2.66834962e+06\n",
      " 2.01850863e+06 1.52692775e+06 1.15506485e+06 8.73764200e+05\n",
      " 6.60970574e+05 5.00000000e+05 3.78231664e+05 2.86118383e+05\n",
      " 2.16438064e+05 1.63727458e+05 1.23853818e+05 9.36908711e+04\n",
      " 7.08737081e+04 5.36133611e+04 4.05565415e+04 3.06795364e+04\n",
      " 2.32079442e+04 1.75559587e+04 1.32804389e+04 1.00461650e+04\n",
      " 7.59955541e+03 5.74878498e+03 4.34874501e+03 3.28966612e+03\n",
      " 2.48851178e+03 1.88246790e+03 1.42401793e+03 1.07721735e+03\n",
      " 8.14875417e+02 6.16423370e+02 4.66301673e+02 3.52740116e+02\n",
      " 2.66834962e+02 2.01850863e+02 1.52692775e+02 1.15506485e+02\n",
      " 8.73764200e+01 6.60970574e+01 5.00000000e+01 3.78231664e+01\n",
      " 2.86118383e+01 2.16438064e+01 1.63727458e+01 1.23853818e+01\n",
      " 9.36908711e+00 7.08737081e+00 5.36133611e+00 4.05565415e+00\n",
      " 3.06795364e+00 2.32079442e+00 1.75559587e+00 1.32804389e+00\n",
      " 1.00461650e+00 7.59955541e-01 5.74878498e-01 4.34874501e-01\n",
      " 3.28966612e-01 2.48851178e-01 1.88246790e-01 1.42401793e-01\n",
      " 1.07721735e-01 8.14875417e-02 6.16423370e-02 4.66301673e-02\n",
      " 3.52740116e-02 2.66834962e-02 2.01850863e-02 1.52692775e-02\n",
      " 1.15506485e-02 8.73764200e-03 6.60970574e-03 5.00000000e-03]\n"
     ]
    },
    {
     "data": {
      "image/png": "[encoded data removed]",
      "text/plain": [
       "<Figure size 640x480 with 1 Axes>"
      ]
     },
     "metadata": {},
     "output_type": "display_data"
    }
   ],
   "source": [
    "# daha önce dediğimiz gibi iteratif yani yinelemeli yani döngü ile en optimalini bulmaya çalışalım\n",
    "katsayılar = []\n",
    "lambdalar = 10**np.linspace(10,-2,100)*0.5\n",
    "print(lambdalar)\n",
    "for i in lambdalar:\n",
    "    ridmodel = Ridge(alpha=i)\n",
    "    ridmodel.fit(X_train,y_train)\n",
    "    katsayılar.append(ridmodel.coef_)\n",
    "\n",
    "ax=plt.gca()\n",
    "ax.plot(katsayılar,lambdalar)\n",
    "ax.set_xscale(\"log\")\n",
    "plt.xlabel(\"Labda\")\n",
    "plt.ylabel(\"Katsayılar\")\n",
    "plt.show()\n",
    "# Çıktıda görüldüğü üzere lamda yani alfa değeri büyüdükçe katsayılar oldukça küçüldü\n",
    "# eksili sayılardan başlayan lambdaları yavaş yavaş artıya doğru götürdükçe katsayılar \n",
    "# da oldukça küçülmüş oldu"
   ]
  }
 ],
 "metadata": {
  "kernelspec": {
   "display_name": "Python 3",
   "language": "python",
   "name": "python3"
  },
  "language_info": {
   "codemirror_mode": {
    "name": "ipython",
    "version": 3
   },
   "file_extension": ".py",
   "mimetype": "text/x-python",
   "name": "python",
   "nbconvert_exporter": "python",
   "pygments_lexer": "ipython3",
   "version": "3.12.5"
  },
  "orig_nbformat": 4
 },
 "nbformat": 4,
 "nbformat_minor": 2
}
